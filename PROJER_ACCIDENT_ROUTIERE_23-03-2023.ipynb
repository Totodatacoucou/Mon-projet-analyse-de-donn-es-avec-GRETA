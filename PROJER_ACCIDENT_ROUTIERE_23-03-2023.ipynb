{
 "cells": [
  {
   "cell_type": "code",
   "execution_count": 126,
   "id": "5277410c",
   "metadata": {},
   "outputs": [],
   "source": [
    "import pandas as pd\n",
    "import numpy as np\n",
    "import seaborn as sns\n",
    "import matplotlib.pyplot as pl"
   ]
  },
  {
   "cell_type": "code",
   "execution_count": 127,
   "id": "aea1c759",
   "metadata": {},
   "outputs": [],
   "source": [
    "usagers = pd.read_csv(\"usagers-2021.csv\",delimiter=\";\")\n",
    "vehicules = pd.read_csv(\"vehicules-2021.csv\",delimiter=\";\")\n",
    "lieux = pd.read_csv(\"lieux-2021.csv\", delimiter=\";\")\n",
    "caracteristiques = pd.read_csv(\"carcteristiques-2021.csv\",delimiter=\";\")"
   ]
  },
  {
   "cell_type": "code",
   "execution_count": 128,
   "id": "91a53478",
   "metadata": {},
   "outputs": [
    {
     "name": "stdout",
     "output_type": "stream",
     "text": [
      "        Num_Acc id_vehicule num_veh  place  catu  grav  sexe  an_nais  trajet  \\\n",
      "0  202100000001     201 764     B01      1     1     3     1   2000.0       1   \n",
      "1  202100000001     201 765     A01      1     1     1     1   1978.0       1   \n",
      "2  202100000002     201 762     A01      1     1     4     1   1983.0       0   \n",
      "3  202100000002     201 763     B01      1     1     3     1   1993.0       0   \n",
      "4  202100000003     201 761     A01      1     1     1     1   1995.0       1   \n",
      "\n",
      "   secu1  secu2  secu3  locp actp  etatp  \n",
      "0      0      9     -1     0    0     -1  \n",
      "1      1     -1     -1     0    0     -1  \n",
      "2      1     -1     -1     0    0     -1  \n",
      "3      1     -1     -1     0    0     -1  \n",
      "4      1      0     -1     0    0     -1  \n",
      "        Num_Acc id_vehicule num_veh  senc  catv  obs  obsm  choc  manv  motor  \\\n",
      "0  202100000001     201 764     B01     1     1    0     2     1     1      5   \n",
      "1  202100000001     201 765     A01     1     7    0     9     3    17      1   \n",
      "2  202100000002     201 762     A01     0     7    2     2     1     1      0   \n",
      "3  202100000002     201 763     B01     0     7    0     2     1     9      0   \n",
      "4  202100000003     201 761     A01     1     7    0     1     3     1      1   \n",
      "\n",
      "   occutc  \n",
      "0     NaN  \n",
      "1     NaN  \n",
      "2     NaN  \n",
      "3     NaN  \n",
      "4     NaN  \n",
      "        Num_Acc  catr                             voie  v1   v2  circ  nbv  \\\n",
      "0  202100000001     3                              981  -1  NaN     2    2   \n",
      "1  202100000002     3                               20   0    E     2    2   \n",
      "2  202100000003     4  GENERAL GALLIENI (BOULEVARD DU)   0  NaN     2    2   \n",
      "3  202100000004     3  GENERAL GALLIENI (BOULEVARD DU)   0  NaN     2    4   \n",
      "4  202100000005     7                  PARIS. ROUTE DE  -1  NaN     2    2   \n",
      "\n",
      "   vosp  prof   pr  pr1  plan lartpc larrout  surf  infra  situ  vma  \n",
      "0     0     1  (1)  (1)     1    NaN      -1     1      0     1   80  \n",
      "1     0     1    0   10     1    NaN      -1     1      0     1   80  \n",
      "2     0     1  (1)  (1)     1    NaN      -1     1      0     1   50  \n",
      "3     0     1    0    1     1    NaN      -1     1      0     1   50  \n",
      "4    -1     1   11  150     1    NaN      -1     1      0     1   50  \n",
      "        Num_Acc  jour  mois    an   hrmn  lum dep    com  agg  int  atm  col  \\\n",
      "0  202100000001    30    11  2021  07:32    2  30  30319    1    1    1    1   \n",
      "1  202100000002    25     9  2021  14:20    1  51  51544    1    3    1    3   \n",
      "2  202100000003    15     7  2021  07:55    1  85  85048    2    1    7    6   \n",
      "3  202100000004    27     3  2021  19:45    5  93  93005    2    2    3    6   \n",
      "4  202100000005    25     2  2021  07:20    5  76  76429    2    1    1    2   \n",
      "\n",
      "                                                adr            lat  \\\n",
      "0                                            CD 981  44,0389580000   \n",
      "1  Aire de repos croisement D20E9 après sortie D977  49,2421290000   \n",
      "2                           15 rue François Nicolas  46,9219500000   \n",
      "3                                    Route de Mitry  48,9493634583   \n",
      "4                                   PARIS. ROUTE DE  49,4083800000   \n",
      "\n",
      "             long  \n",
      "0    4,3480220000  \n",
      "1    4,5545460000  \n",
      "2   -0,9644600000  \n",
      "3    2,5196639908  \n",
      "4    1,1458100000  \n"
     ]
    }
   ],
   "source": [
    "print(usagers.head())\n",
    "print(vehicules.head())\n",
    "print(lieux.head())\n",
    "print(caracteristiques.head())"
   ]
  },
  {
   "cell_type": "code",
   "execution_count": 129,
   "id": "c05580c0",
   "metadata": {},
   "outputs": [
    {
     "data": {
      "text/html": [
       "<div>\n",
       "<style scoped>\n",
       "    .dataframe tbody tr th:only-of-type {\n",
       "        vertical-align: middle;\n",
       "    }\n",
       "\n",
       "    .dataframe tbody tr th {\n",
       "        vertical-align: top;\n",
       "    }\n",
       "\n",
       "    .dataframe thead th {\n",
       "        text-align: right;\n",
       "    }\n",
       "</style>\n",
       "<table border=\"1\" class=\"dataframe\">\n",
       "  <thead>\n",
       "    <tr style=\"text-align: right;\">\n",
       "      <th></th>\n",
       "      <th>Num_Acc</th>\n",
       "      <th>id_vehicule</th>\n",
       "      <th>num_veh</th>\n",
       "      <th>place</th>\n",
       "      <th>catu</th>\n",
       "      <th>grav</th>\n",
       "      <th>sexe</th>\n",
       "      <th>an_nais</th>\n",
       "      <th>trajet</th>\n",
       "      <th>secu1</th>\n",
       "      <th>secu2</th>\n",
       "      <th>secu3</th>\n",
       "      <th>locp</th>\n",
       "      <th>actp</th>\n",
       "      <th>etatp</th>\n",
       "    </tr>\n",
       "  </thead>\n",
       "  <tbody>\n",
       "    <tr>\n",
       "      <th>0</th>\n",
       "      <td>202100000001</td>\n",
       "      <td>201 764</td>\n",
       "      <td>B01</td>\n",
       "      <td>1</td>\n",
       "      <td>1</td>\n",
       "      <td>3</td>\n",
       "      <td>1</td>\n",
       "      <td>2000.0</td>\n",
       "      <td>1</td>\n",
       "      <td>0</td>\n",
       "      <td>9</td>\n",
       "      <td>-1</td>\n",
       "      <td>0</td>\n",
       "      <td>0</td>\n",
       "      <td>-1</td>\n",
       "    </tr>\n",
       "    <tr>\n",
       "      <th>1</th>\n",
       "      <td>202100000001</td>\n",
       "      <td>201 765</td>\n",
       "      <td>A01</td>\n",
       "      <td>1</td>\n",
       "      <td>1</td>\n",
       "      <td>1</td>\n",
       "      <td>1</td>\n",
       "      <td>1978.0</td>\n",
       "      <td>1</td>\n",
       "      <td>1</td>\n",
       "      <td>-1</td>\n",
       "      <td>-1</td>\n",
       "      <td>0</td>\n",
       "      <td>0</td>\n",
       "      <td>-1</td>\n",
       "    </tr>\n",
       "    <tr>\n",
       "      <th>2</th>\n",
       "      <td>202100000002</td>\n",
       "      <td>201 762</td>\n",
       "      <td>A01</td>\n",
       "      <td>1</td>\n",
       "      <td>1</td>\n",
       "      <td>4</td>\n",
       "      <td>1</td>\n",
       "      <td>1983.0</td>\n",
       "      <td>0</td>\n",
       "      <td>1</td>\n",
       "      <td>-1</td>\n",
       "      <td>-1</td>\n",
       "      <td>0</td>\n",
       "      <td>0</td>\n",
       "      <td>-1</td>\n",
       "    </tr>\n",
       "    <tr>\n",
       "      <th>3</th>\n",
       "      <td>202100000002</td>\n",
       "      <td>201 763</td>\n",
       "      <td>B01</td>\n",
       "      <td>1</td>\n",
       "      <td>1</td>\n",
       "      <td>3</td>\n",
       "      <td>1</td>\n",
       "      <td>1993.0</td>\n",
       "      <td>0</td>\n",
       "      <td>1</td>\n",
       "      <td>-1</td>\n",
       "      <td>-1</td>\n",
       "      <td>0</td>\n",
       "      <td>0</td>\n",
       "      <td>-1</td>\n",
       "    </tr>\n",
       "    <tr>\n",
       "      <th>4</th>\n",
       "      <td>202100000003</td>\n",
       "      <td>201 761</td>\n",
       "      <td>A01</td>\n",
       "      <td>1</td>\n",
       "      <td>1</td>\n",
       "      <td>1</td>\n",
       "      <td>1</td>\n",
       "      <td>1995.0</td>\n",
       "      <td>1</td>\n",
       "      <td>1</td>\n",
       "      <td>0</td>\n",
       "      <td>-1</td>\n",
       "      <td>0</td>\n",
       "      <td>0</td>\n",
       "      <td>-1</td>\n",
       "    </tr>\n",
       "    <tr>\n",
       "      <th>...</th>\n",
       "      <td>...</td>\n",
       "      <td>...</td>\n",
       "      <td>...</td>\n",
       "      <td>...</td>\n",
       "      <td>...</td>\n",
       "      <td>...</td>\n",
       "      <td>...</td>\n",
       "      <td>...</td>\n",
       "      <td>...</td>\n",
       "      <td>...</td>\n",
       "      <td>...</td>\n",
       "      <td>...</td>\n",
       "      <td>...</td>\n",
       "      <td>...</td>\n",
       "      <td>...</td>\n",
       "    </tr>\n",
       "    <tr>\n",
       "      <th>129148</th>\n",
       "      <td>202100056516</td>\n",
       "      <td>100 885</td>\n",
       "      <td>A01</td>\n",
       "      <td>1</td>\n",
       "      <td>1</td>\n",
       "      <td>4</td>\n",
       "      <td>1</td>\n",
       "      <td>1975.0</td>\n",
       "      <td>0</td>\n",
       "      <td>1</td>\n",
       "      <td>-1</td>\n",
       "      <td>-1</td>\n",
       "      <td>0</td>\n",
       "      <td>0</td>\n",
       "      <td>-1</td>\n",
       "    </tr>\n",
       "    <tr>\n",
       "      <th>129149</th>\n",
       "      <td>202100056516</td>\n",
       "      <td>100 886</td>\n",
       "      <td>B01</td>\n",
       "      <td>1</td>\n",
       "      <td>1</td>\n",
       "      <td>4</td>\n",
       "      <td>1</td>\n",
       "      <td>2002.0</td>\n",
       "      <td>5</td>\n",
       "      <td>1</td>\n",
       "      <td>-1</td>\n",
       "      <td>-1</td>\n",
       "      <td>0</td>\n",
       "      <td>0</td>\n",
       "      <td>-1</td>\n",
       "    </tr>\n",
       "    <tr>\n",
       "      <th>129150</th>\n",
       "      <td>202100056517</td>\n",
       "      <td>100 884</td>\n",
       "      <td>A01</td>\n",
       "      <td>1</td>\n",
       "      <td>1</td>\n",
       "      <td>3</td>\n",
       "      <td>1</td>\n",
       "      <td>1999.0</td>\n",
       "      <td>0</td>\n",
       "      <td>0</td>\n",
       "      <td>-1</td>\n",
       "      <td>-1</td>\n",
       "      <td>0</td>\n",
       "      <td>0</td>\n",
       "      <td>-1</td>\n",
       "    </tr>\n",
       "    <tr>\n",
       "      <th>129151</th>\n",
       "      <td>202100056518</td>\n",
       "      <td>100 882</td>\n",
       "      <td>A01</td>\n",
       "      <td>1</td>\n",
       "      <td>1</td>\n",
       "      <td>3</td>\n",
       "      <td>1</td>\n",
       "      <td>1968.0</td>\n",
       "      <td>3</td>\n",
       "      <td>1</td>\n",
       "      <td>0</td>\n",
       "      <td>-1</td>\n",
       "      <td>-1</td>\n",
       "      <td>-1</td>\n",
       "      <td>-1</td>\n",
       "    </tr>\n",
       "    <tr>\n",
       "      <th>129152</th>\n",
       "      <td>202100056518</td>\n",
       "      <td>100 883</td>\n",
       "      <td>B01</td>\n",
       "      <td>1</td>\n",
       "      <td>1</td>\n",
       "      <td>3</td>\n",
       "      <td>1</td>\n",
       "      <td>1985.0</td>\n",
       "      <td>3</td>\n",
       "      <td>1</td>\n",
       "      <td>0</td>\n",
       "      <td>-1</td>\n",
       "      <td>-1</td>\n",
       "      <td>-1</td>\n",
       "      <td>-1</td>\n",
       "    </tr>\n",
       "  </tbody>\n",
       "</table>\n",
       "<p>129153 rows × 15 columns</p>\n",
       "</div>"
      ],
      "text/plain": [
       "             Num_Acc id_vehicule num_veh  place  catu  grav  sexe  an_nais  \\\n",
       "0       202100000001     201 764     B01      1     1     3     1   2000.0   \n",
       "1       202100000001     201 765     A01      1     1     1     1   1978.0   \n",
       "2       202100000002     201 762     A01      1     1     4     1   1983.0   \n",
       "3       202100000002     201 763     B01      1     1     3     1   1993.0   \n",
       "4       202100000003     201 761     A01      1     1     1     1   1995.0   \n",
       "...              ...         ...     ...    ...   ...   ...   ...      ...   \n",
       "129148  202100056516     100 885     A01      1     1     4     1   1975.0   \n",
       "129149  202100056516     100 886     B01      1     1     4     1   2002.0   \n",
       "129150  202100056517     100 884     A01      1     1     3     1   1999.0   \n",
       "129151  202100056518     100 882     A01      1     1     3     1   1968.0   \n",
       "129152  202100056518     100 883     B01      1     1     3     1   1985.0   \n",
       "\n",
       "        trajet  secu1  secu2  secu3  locp actp  etatp  \n",
       "0            1      0      9     -1     0    0     -1  \n",
       "1            1      1     -1     -1     0    0     -1  \n",
       "2            0      1     -1     -1     0    0     -1  \n",
       "3            0      1     -1     -1     0    0     -1  \n",
       "4            1      1      0     -1     0    0     -1  \n",
       "...        ...    ...    ...    ...   ...  ...    ...  \n",
       "129148       0      1     -1     -1     0    0     -1  \n",
       "129149       5      1     -1     -1     0    0     -1  \n",
       "129150       0      0     -1     -1     0    0     -1  \n",
       "129151       3      1      0     -1    -1   -1     -1  \n",
       "129152       3      1      0     -1    -1   -1     -1  \n",
       "\n",
       "[129153 rows x 15 columns]"
      ]
     },
     "execution_count": 129,
     "metadata": {},
     "output_type": "execute_result"
    }
   ],
   "source": [
    "usagers"
   ]
  },
  {
   "cell_type": "code",
   "execution_count": 130,
   "id": "720d1fe7",
   "metadata": {},
   "outputs": [
    {
     "data": {
      "text/html": [
       "<div>\n",
       "<style scoped>\n",
       "    .dataframe tbody tr th:only-of-type {\n",
       "        vertical-align: middle;\n",
       "    }\n",
       "\n",
       "    .dataframe tbody tr th {\n",
       "        vertical-align: top;\n",
       "    }\n",
       "\n",
       "    .dataframe thead th {\n",
       "        text-align: right;\n",
       "    }\n",
       "</style>\n",
       "<table border=\"1\" class=\"dataframe\">\n",
       "  <thead>\n",
       "    <tr style=\"text-align: right;\">\n",
       "      <th></th>\n",
       "      <th>Num_Acc</th>\n",
       "      <th>id_vehicule</th>\n",
       "      <th>num_veh</th>\n",
       "      <th>senc</th>\n",
       "      <th>catv</th>\n",
       "      <th>obs</th>\n",
       "      <th>obsm</th>\n",
       "      <th>choc</th>\n",
       "      <th>manv</th>\n",
       "      <th>motor</th>\n",
       "      <th>occutc</th>\n",
       "    </tr>\n",
       "  </thead>\n",
       "  <tbody>\n",
       "    <tr>\n",
       "      <th>0</th>\n",
       "      <td>202100000001</td>\n",
       "      <td>201 764</td>\n",
       "      <td>B01</td>\n",
       "      <td>1</td>\n",
       "      <td>1</td>\n",
       "      <td>0</td>\n",
       "      <td>2</td>\n",
       "      <td>1</td>\n",
       "      <td>1</td>\n",
       "      <td>5</td>\n",
       "      <td>NaN</td>\n",
       "    </tr>\n",
       "    <tr>\n",
       "      <th>1</th>\n",
       "      <td>202100000001</td>\n",
       "      <td>201 765</td>\n",
       "      <td>A01</td>\n",
       "      <td>1</td>\n",
       "      <td>7</td>\n",
       "      <td>0</td>\n",
       "      <td>9</td>\n",
       "      <td>3</td>\n",
       "      <td>17</td>\n",
       "      <td>1</td>\n",
       "      <td>NaN</td>\n",
       "    </tr>\n",
       "    <tr>\n",
       "      <th>2</th>\n",
       "      <td>202100000002</td>\n",
       "      <td>201 762</td>\n",
       "      <td>A01</td>\n",
       "      <td>0</td>\n",
       "      <td>7</td>\n",
       "      <td>2</td>\n",
       "      <td>2</td>\n",
       "      <td>1</td>\n",
       "      <td>1</td>\n",
       "      <td>0</td>\n",
       "      <td>NaN</td>\n",
       "    </tr>\n",
       "    <tr>\n",
       "      <th>3</th>\n",
       "      <td>202100000002</td>\n",
       "      <td>201 763</td>\n",
       "      <td>B01</td>\n",
       "      <td>0</td>\n",
       "      <td>7</td>\n",
       "      <td>0</td>\n",
       "      <td>2</td>\n",
       "      <td>1</td>\n",
       "      <td>9</td>\n",
       "      <td>0</td>\n",
       "      <td>NaN</td>\n",
       "    </tr>\n",
       "    <tr>\n",
       "      <th>4</th>\n",
       "      <td>202100000003</td>\n",
       "      <td>201 761</td>\n",
       "      <td>A01</td>\n",
       "      <td>1</td>\n",
       "      <td>7</td>\n",
       "      <td>0</td>\n",
       "      <td>1</td>\n",
       "      <td>3</td>\n",
       "      <td>1</td>\n",
       "      <td>1</td>\n",
       "      <td>NaN</td>\n",
       "    </tr>\n",
       "    <tr>\n",
       "      <th>...</th>\n",
       "      <td>...</td>\n",
       "      <td>...</td>\n",
       "      <td>...</td>\n",
       "      <td>...</td>\n",
       "      <td>...</td>\n",
       "      <td>...</td>\n",
       "      <td>...</td>\n",
       "      <td>...</td>\n",
       "      <td>...</td>\n",
       "      <td>...</td>\n",
       "      <td>...</td>\n",
       "    </tr>\n",
       "    <tr>\n",
       "      <th>97310</th>\n",
       "      <td>202100056516</td>\n",
       "      <td>100 885</td>\n",
       "      <td>A01</td>\n",
       "      <td>1</td>\n",
       "      <td>7</td>\n",
       "      <td>0</td>\n",
       "      <td>2</td>\n",
       "      <td>1</td>\n",
       "      <td>5</td>\n",
       "      <td>1</td>\n",
       "      <td>NaN</td>\n",
       "    </tr>\n",
       "    <tr>\n",
       "      <th>97311</th>\n",
       "      <td>202100056516</td>\n",
       "      <td>100 886</td>\n",
       "      <td>B01</td>\n",
       "      <td>2</td>\n",
       "      <td>7</td>\n",
       "      <td>0</td>\n",
       "      <td>2</td>\n",
       "      <td>3</td>\n",
       "      <td>1</td>\n",
       "      <td>1</td>\n",
       "      <td>NaN</td>\n",
       "    </tr>\n",
       "    <tr>\n",
       "      <th>97312</th>\n",
       "      <td>202100056517</td>\n",
       "      <td>100 884</td>\n",
       "      <td>A01</td>\n",
       "      <td>2</td>\n",
       "      <td>7</td>\n",
       "      <td>6</td>\n",
       "      <td>0</td>\n",
       "      <td>5</td>\n",
       "      <td>6</td>\n",
       "      <td>1</td>\n",
       "      <td>NaN</td>\n",
       "    </tr>\n",
       "    <tr>\n",
       "      <th>97313</th>\n",
       "      <td>202100056518</td>\n",
       "      <td>100 882</td>\n",
       "      <td>A01</td>\n",
       "      <td>2</td>\n",
       "      <td>7</td>\n",
       "      <td>0</td>\n",
       "      <td>2</td>\n",
       "      <td>1</td>\n",
       "      <td>6</td>\n",
       "      <td>1</td>\n",
       "      <td>NaN</td>\n",
       "    </tr>\n",
       "    <tr>\n",
       "      <th>97314</th>\n",
       "      <td>202100056518</td>\n",
       "      <td>100 883</td>\n",
       "      <td>B01</td>\n",
       "      <td>1</td>\n",
       "      <td>7</td>\n",
       "      <td>0</td>\n",
       "      <td>2</td>\n",
       "      <td>1</td>\n",
       "      <td>1</td>\n",
       "      <td>1</td>\n",
       "      <td>NaN</td>\n",
       "    </tr>\n",
       "  </tbody>\n",
       "</table>\n",
       "<p>97315 rows × 11 columns</p>\n",
       "</div>"
      ],
      "text/plain": [
       "            Num_Acc id_vehicule num_veh  senc  catv  obs  obsm  choc  manv  \\\n",
       "0      202100000001     201 764     B01     1     1    0     2     1     1   \n",
       "1      202100000001     201 765     A01     1     7    0     9     3    17   \n",
       "2      202100000002     201 762     A01     0     7    2     2     1     1   \n",
       "3      202100000002     201 763     B01     0     7    0     2     1     9   \n",
       "4      202100000003     201 761     A01     1     7    0     1     3     1   \n",
       "...             ...         ...     ...   ...   ...  ...   ...   ...   ...   \n",
       "97310  202100056516     100 885     A01     1     7    0     2     1     5   \n",
       "97311  202100056516     100 886     B01     2     7    0     2     3     1   \n",
       "97312  202100056517     100 884     A01     2     7    6     0     5     6   \n",
       "97313  202100056518     100 882     A01     2     7    0     2     1     6   \n",
       "97314  202100056518     100 883     B01     1     7    0     2     1     1   \n",
       "\n",
       "       motor  occutc  \n",
       "0          5     NaN  \n",
       "1          1     NaN  \n",
       "2          0     NaN  \n",
       "3          0     NaN  \n",
       "4          1     NaN  \n",
       "...      ...     ...  \n",
       "97310      1     NaN  \n",
       "97311      1     NaN  \n",
       "97312      1     NaN  \n",
       "97313      1     NaN  \n",
       "97314      1     NaN  \n",
       "\n",
       "[97315 rows x 11 columns]"
      ]
     },
     "execution_count": 130,
     "metadata": {},
     "output_type": "execute_result"
    }
   ],
   "source": [
    "vehicules"
   ]
  },
  {
   "cell_type": "code",
   "execution_count": 131,
   "id": "80a5cbb4",
   "metadata": {},
   "outputs": [
    {
     "data": {
      "text/html": [
       "<div>\n",
       "<style scoped>\n",
       "    .dataframe tbody tr th:only-of-type {\n",
       "        vertical-align: middle;\n",
       "    }\n",
       "\n",
       "    .dataframe tbody tr th {\n",
       "        vertical-align: top;\n",
       "    }\n",
       "\n",
       "    .dataframe thead th {\n",
       "        text-align: right;\n",
       "    }\n",
       "</style>\n",
       "<table border=\"1\" class=\"dataframe\">\n",
       "  <thead>\n",
       "    <tr style=\"text-align: right;\">\n",
       "      <th></th>\n",
       "      <th>Num_Acc</th>\n",
       "      <th>catr</th>\n",
       "      <th>voie</th>\n",
       "      <th>v1</th>\n",
       "      <th>v2</th>\n",
       "      <th>circ</th>\n",
       "      <th>nbv</th>\n",
       "      <th>vosp</th>\n",
       "      <th>prof</th>\n",
       "      <th>pr</th>\n",
       "      <th>pr1</th>\n",
       "      <th>plan</th>\n",
       "      <th>lartpc</th>\n",
       "      <th>larrout</th>\n",
       "      <th>surf</th>\n",
       "      <th>infra</th>\n",
       "      <th>situ</th>\n",
       "      <th>vma</th>\n",
       "    </tr>\n",
       "  </thead>\n",
       "  <tbody>\n",
       "    <tr>\n",
       "      <th>0</th>\n",
       "      <td>202100000001</td>\n",
       "      <td>3</td>\n",
       "      <td>981</td>\n",
       "      <td>-1</td>\n",
       "      <td>NaN</td>\n",
       "      <td>2</td>\n",
       "      <td>2</td>\n",
       "      <td>0</td>\n",
       "      <td>1</td>\n",
       "      <td>(1)</td>\n",
       "      <td>(1)</td>\n",
       "      <td>1</td>\n",
       "      <td>NaN</td>\n",
       "      <td>-1</td>\n",
       "      <td>1</td>\n",
       "      <td>0</td>\n",
       "      <td>1</td>\n",
       "      <td>80</td>\n",
       "    </tr>\n",
       "    <tr>\n",
       "      <th>1</th>\n",
       "      <td>202100000002</td>\n",
       "      <td>3</td>\n",
       "      <td>20</td>\n",
       "      <td>0</td>\n",
       "      <td>E</td>\n",
       "      <td>2</td>\n",
       "      <td>2</td>\n",
       "      <td>0</td>\n",
       "      <td>1</td>\n",
       "      <td>0</td>\n",
       "      <td>10</td>\n",
       "      <td>1</td>\n",
       "      <td>NaN</td>\n",
       "      <td>-1</td>\n",
       "      <td>1</td>\n",
       "      <td>0</td>\n",
       "      <td>1</td>\n",
       "      <td>80</td>\n",
       "    </tr>\n",
       "    <tr>\n",
       "      <th>2</th>\n",
       "      <td>202100000003</td>\n",
       "      <td>4</td>\n",
       "      <td>GENERAL GALLIENI (BOULEVARD DU)</td>\n",
       "      <td>0</td>\n",
       "      <td>NaN</td>\n",
       "      <td>2</td>\n",
       "      <td>2</td>\n",
       "      <td>0</td>\n",
       "      <td>1</td>\n",
       "      <td>(1)</td>\n",
       "      <td>(1)</td>\n",
       "      <td>1</td>\n",
       "      <td>NaN</td>\n",
       "      <td>-1</td>\n",
       "      <td>1</td>\n",
       "      <td>0</td>\n",
       "      <td>1</td>\n",
       "      <td>50</td>\n",
       "    </tr>\n",
       "    <tr>\n",
       "      <th>3</th>\n",
       "      <td>202100000004</td>\n",
       "      <td>3</td>\n",
       "      <td>GENERAL GALLIENI (BOULEVARD DU)</td>\n",
       "      <td>0</td>\n",
       "      <td>NaN</td>\n",
       "      <td>2</td>\n",
       "      <td>4</td>\n",
       "      <td>0</td>\n",
       "      <td>1</td>\n",
       "      <td>0</td>\n",
       "      <td>1</td>\n",
       "      <td>1</td>\n",
       "      <td>NaN</td>\n",
       "      <td>-1</td>\n",
       "      <td>1</td>\n",
       "      <td>0</td>\n",
       "      <td>1</td>\n",
       "      <td>50</td>\n",
       "    </tr>\n",
       "    <tr>\n",
       "      <th>4</th>\n",
       "      <td>202100000005</td>\n",
       "      <td>7</td>\n",
       "      <td>PARIS. ROUTE DE</td>\n",
       "      <td>-1</td>\n",
       "      <td>NaN</td>\n",
       "      <td>2</td>\n",
       "      <td>2</td>\n",
       "      <td>-1</td>\n",
       "      <td>1</td>\n",
       "      <td>11</td>\n",
       "      <td>150</td>\n",
       "      <td>1</td>\n",
       "      <td>NaN</td>\n",
       "      <td>-1</td>\n",
       "      <td>1</td>\n",
       "      <td>0</td>\n",
       "      <td>1</td>\n",
       "      <td>50</td>\n",
       "    </tr>\n",
       "    <tr>\n",
       "      <th>...</th>\n",
       "      <td>...</td>\n",
       "      <td>...</td>\n",
       "      <td>...</td>\n",
       "      <td>...</td>\n",
       "      <td>...</td>\n",
       "      <td>...</td>\n",
       "      <td>...</td>\n",
       "      <td>...</td>\n",
       "      <td>...</td>\n",
       "      <td>...</td>\n",
       "      <td>...</td>\n",
       "      <td>...</td>\n",
       "      <td>...</td>\n",
       "      <td>...</td>\n",
       "      <td>...</td>\n",
       "      <td>...</td>\n",
       "      <td>...</td>\n",
       "      <td>...</td>\n",
       "    </tr>\n",
       "    <tr>\n",
       "      <th>56513</th>\n",
       "      <td>202100056514</td>\n",
       "      <td>1</td>\n",
       "      <td>65</td>\n",
       "      <td>-1</td>\n",
       "      <td>NaN</td>\n",
       "      <td>3</td>\n",
       "      <td>4</td>\n",
       "      <td>0</td>\n",
       "      <td>2</td>\n",
       "      <td>0</td>\n",
       "      <td>454</td>\n",
       "      <td>3</td>\n",
       "      <td>NaN</td>\n",
       "      <td>-1</td>\n",
       "      <td>2</td>\n",
       "      <td>9</td>\n",
       "      <td>2</td>\n",
       "      <td>130</td>\n",
       "    </tr>\n",
       "    <tr>\n",
       "      <th>56514</th>\n",
       "      <td>202100056515</td>\n",
       "      <td>3</td>\n",
       "      <td>520</td>\n",
       "      <td>0</td>\n",
       "      <td>D</td>\n",
       "      <td>2</td>\n",
       "      <td>2</td>\n",
       "      <td>0</td>\n",
       "      <td>1</td>\n",
       "      <td>46</td>\n",
       "      <td>2</td>\n",
       "      <td>1</td>\n",
       "      <td>NaN</td>\n",
       "      <td>-1</td>\n",
       "      <td>5</td>\n",
       "      <td>0</td>\n",
       "      <td>3</td>\n",
       "      <td>80</td>\n",
       "    </tr>\n",
       "    <tr>\n",
       "      <th>56515</th>\n",
       "      <td>202100056516</td>\n",
       "      <td>3</td>\n",
       "      <td>538</td>\n",
       "      <td>-1</td>\n",
       "      <td>NaN</td>\n",
       "      <td>2</td>\n",
       "      <td>2</td>\n",
       "      <td>0</td>\n",
       "      <td>2</td>\n",
       "      <td>49</td>\n",
       "      <td>24</td>\n",
       "      <td>2</td>\n",
       "      <td>NaN</td>\n",
       "      <td>-1</td>\n",
       "      <td>2</td>\n",
       "      <td>0</td>\n",
       "      <td>1</td>\n",
       "      <td>80</td>\n",
       "    </tr>\n",
       "    <tr>\n",
       "      <th>56516</th>\n",
       "      <td>202100056517</td>\n",
       "      <td>4</td>\n",
       "      <td>NaN</td>\n",
       "      <td>-1</td>\n",
       "      <td>NaN</td>\n",
       "      <td>2</td>\n",
       "      <td>2</td>\n",
       "      <td>0</td>\n",
       "      <td>1</td>\n",
       "      <td>(1)</td>\n",
       "      <td>(1)</td>\n",
       "      <td>2</td>\n",
       "      <td>NaN</td>\n",
       "      <td>-1</td>\n",
       "      <td>2</td>\n",
       "      <td>5</td>\n",
       "      <td>3</td>\n",
       "      <td>80</td>\n",
       "    </tr>\n",
       "    <tr>\n",
       "      <th>56517</th>\n",
       "      <td>202100056518</td>\n",
       "      <td>3</td>\n",
       "      <td>129</td>\n",
       "      <td>0</td>\n",
       "      <td>NaN</td>\n",
       "      <td>2</td>\n",
       "      <td>2</td>\n",
       "      <td>0</td>\n",
       "      <td>1</td>\n",
       "      <td>2</td>\n",
       "      <td>290</td>\n",
       "      <td>1</td>\n",
       "      <td>NaN</td>\n",
       "      <td>-1</td>\n",
       "      <td>2</td>\n",
       "      <td>0</td>\n",
       "      <td>1</td>\n",
       "      <td>70</td>\n",
       "    </tr>\n",
       "  </tbody>\n",
       "</table>\n",
       "<p>56518 rows × 18 columns</p>\n",
       "</div>"
      ],
      "text/plain": [
       "            Num_Acc  catr                             voie  v1   v2  circ  \\\n",
       "0      202100000001     3                              981  -1  NaN     2   \n",
       "1      202100000002     3                               20   0    E     2   \n",
       "2      202100000003     4  GENERAL GALLIENI (BOULEVARD DU)   0  NaN     2   \n",
       "3      202100000004     3  GENERAL GALLIENI (BOULEVARD DU)   0  NaN     2   \n",
       "4      202100000005     7                  PARIS. ROUTE DE  -1  NaN     2   \n",
       "...             ...   ...                              ...  ..  ...   ...   \n",
       "56513  202100056514     1                               65  -1  NaN     3   \n",
       "56514  202100056515     3                              520   0    D     2   \n",
       "56515  202100056516     3                              538  -1  NaN     2   \n",
       "56516  202100056517     4                              NaN  -1  NaN     2   \n",
       "56517  202100056518     3                              129   0  NaN     2   \n",
       "\n",
       "       nbv  vosp  prof   pr  pr1  plan lartpc larrout  surf  infra  situ  vma  \n",
       "0        2     0     1  (1)  (1)     1    NaN      -1     1      0     1   80  \n",
       "1        2     0     1    0   10     1    NaN      -1     1      0     1   80  \n",
       "2        2     0     1  (1)  (1)     1    NaN      -1     1      0     1   50  \n",
       "3        4     0     1    0    1     1    NaN      -1     1      0     1   50  \n",
       "4        2    -1     1   11  150     1    NaN      -1     1      0     1   50  \n",
       "...    ...   ...   ...  ...  ...   ...    ...     ...   ...    ...   ...  ...  \n",
       "56513    4     0     2    0  454     3    NaN      -1     2      9     2  130  \n",
       "56514    2     0     1   46    2     1    NaN      -1     5      0     3   80  \n",
       "56515    2     0     2   49   24     2    NaN      -1     2      0     1   80  \n",
       "56516    2     0     1  (1)  (1)     2    NaN      -1     2      5     3   80  \n",
       "56517    2     0     1    2  290     1    NaN      -1     2      0     1   70  \n",
       "\n",
       "[56518 rows x 18 columns]"
      ]
     },
     "execution_count": 131,
     "metadata": {},
     "output_type": "execute_result"
    }
   ],
   "source": [
    "lieux"
   ]
  },
  {
   "cell_type": "code",
   "execution_count": 132,
   "id": "24a435ad",
   "metadata": {},
   "outputs": [
    {
     "data": {
      "text/html": [
       "<div>\n",
       "<style scoped>\n",
       "    .dataframe tbody tr th:only-of-type {\n",
       "        vertical-align: middle;\n",
       "    }\n",
       "\n",
       "    .dataframe tbody tr th {\n",
       "        vertical-align: top;\n",
       "    }\n",
       "\n",
       "    .dataframe thead th {\n",
       "        text-align: right;\n",
       "    }\n",
       "</style>\n",
       "<table border=\"1\" class=\"dataframe\">\n",
       "  <thead>\n",
       "    <tr style=\"text-align: right;\">\n",
       "      <th></th>\n",
       "      <th>Num_Acc</th>\n",
       "      <th>jour</th>\n",
       "      <th>mois</th>\n",
       "      <th>an</th>\n",
       "      <th>hrmn</th>\n",
       "      <th>lum</th>\n",
       "      <th>dep</th>\n",
       "      <th>com</th>\n",
       "      <th>agg</th>\n",
       "      <th>int</th>\n",
       "      <th>atm</th>\n",
       "      <th>col</th>\n",
       "      <th>adr</th>\n",
       "      <th>lat</th>\n",
       "      <th>long</th>\n",
       "    </tr>\n",
       "  </thead>\n",
       "  <tbody>\n",
       "    <tr>\n",
       "      <th>0</th>\n",
       "      <td>202100000001</td>\n",
       "      <td>30</td>\n",
       "      <td>11</td>\n",
       "      <td>2021</td>\n",
       "      <td>07:32</td>\n",
       "      <td>2</td>\n",
       "      <td>30</td>\n",
       "      <td>30319</td>\n",
       "      <td>1</td>\n",
       "      <td>1</td>\n",
       "      <td>1</td>\n",
       "      <td>1</td>\n",
       "      <td>CD 981</td>\n",
       "      <td>44,0389580000</td>\n",
       "      <td>4,3480220000</td>\n",
       "    </tr>\n",
       "    <tr>\n",
       "      <th>1</th>\n",
       "      <td>202100000002</td>\n",
       "      <td>25</td>\n",
       "      <td>9</td>\n",
       "      <td>2021</td>\n",
       "      <td>14:20</td>\n",
       "      <td>1</td>\n",
       "      <td>51</td>\n",
       "      <td>51544</td>\n",
       "      <td>1</td>\n",
       "      <td>3</td>\n",
       "      <td>1</td>\n",
       "      <td>3</td>\n",
       "      <td>Aire de repos croisement D20E9 après sortie D977</td>\n",
       "      <td>49,2421290000</td>\n",
       "      <td>4,5545460000</td>\n",
       "    </tr>\n",
       "    <tr>\n",
       "      <th>2</th>\n",
       "      <td>202100000003</td>\n",
       "      <td>15</td>\n",
       "      <td>7</td>\n",
       "      <td>2021</td>\n",
       "      <td>07:55</td>\n",
       "      <td>1</td>\n",
       "      <td>85</td>\n",
       "      <td>85048</td>\n",
       "      <td>2</td>\n",
       "      <td>1</td>\n",
       "      <td>7</td>\n",
       "      <td>6</td>\n",
       "      <td>15 rue François Nicolas</td>\n",
       "      <td>46,9219500000</td>\n",
       "      <td>-0,9644600000</td>\n",
       "    </tr>\n",
       "    <tr>\n",
       "      <th>3</th>\n",
       "      <td>202100000004</td>\n",
       "      <td>27</td>\n",
       "      <td>3</td>\n",
       "      <td>2021</td>\n",
       "      <td>19:45</td>\n",
       "      <td>5</td>\n",
       "      <td>93</td>\n",
       "      <td>93005</td>\n",
       "      <td>2</td>\n",
       "      <td>2</td>\n",
       "      <td>3</td>\n",
       "      <td>6</td>\n",
       "      <td>Route de Mitry</td>\n",
       "      <td>48,9493634583</td>\n",
       "      <td>2,5196639908</td>\n",
       "    </tr>\n",
       "    <tr>\n",
       "      <th>4</th>\n",
       "      <td>202100000005</td>\n",
       "      <td>25</td>\n",
       "      <td>2</td>\n",
       "      <td>2021</td>\n",
       "      <td>07:20</td>\n",
       "      <td>5</td>\n",
       "      <td>76</td>\n",
       "      <td>76429</td>\n",
       "      <td>2</td>\n",
       "      <td>1</td>\n",
       "      <td>1</td>\n",
       "      <td>2</td>\n",
       "      <td>PARIS. ROUTE DE</td>\n",
       "      <td>49,4083800000</td>\n",
       "      <td>1,1458100000</td>\n",
       "    </tr>\n",
       "    <tr>\n",
       "      <th>...</th>\n",
       "      <td>...</td>\n",
       "      <td>...</td>\n",
       "      <td>...</td>\n",
       "      <td>...</td>\n",
       "      <td>...</td>\n",
       "      <td>...</td>\n",
       "      <td>...</td>\n",
       "      <td>...</td>\n",
       "      <td>...</td>\n",
       "      <td>...</td>\n",
       "      <td>...</td>\n",
       "      <td>...</td>\n",
       "      <td>...</td>\n",
       "      <td>...</td>\n",
       "      <td>...</td>\n",
       "    </tr>\n",
       "    <tr>\n",
       "      <th>56513</th>\n",
       "      <td>202100056514</td>\n",
       "      <td>1</td>\n",
       "      <td>1</td>\n",
       "      <td>2021</td>\n",
       "      <td>06:10</td>\n",
       "      <td>3</td>\n",
       "      <td>33</td>\n",
       "      <td>33021</td>\n",
       "      <td>1</td>\n",
       "      <td>1</td>\n",
       "      <td>5</td>\n",
       "      <td>6</td>\n",
       "      <td>NaN</td>\n",
       "      <td>44,5266190000</td>\n",
       "      <td>-0,1955440000</td>\n",
       "    </tr>\n",
       "    <tr>\n",
       "      <th>56514</th>\n",
       "      <td>202100056515</td>\n",
       "      <td>1</td>\n",
       "      <td>1</td>\n",
       "      <td>2021</td>\n",
       "      <td>10:20</td>\n",
       "      <td>1</td>\n",
       "      <td>38</td>\n",
       "      <td>38405</td>\n",
       "      <td>1</td>\n",
       "      <td>1</td>\n",
       "      <td>2</td>\n",
       "      <td>6</td>\n",
       "      <td>D520</td>\n",
       "      <td>45,3802910000</td>\n",
       "      <td>5,7049140000</td>\n",
       "    </tr>\n",
       "    <tr>\n",
       "      <th>56515</th>\n",
       "      <td>202100056516</td>\n",
       "      <td>1</td>\n",
       "      <td>1</td>\n",
       "      <td>2021</td>\n",
       "      <td>18:00</td>\n",
       "      <td>3</td>\n",
       "      <td>26</td>\n",
       "      <td>26064</td>\n",
       "      <td>1</td>\n",
       "      <td>1</td>\n",
       "      <td>2</td>\n",
       "      <td>1</td>\n",
       "      <td>Route départementale 538</td>\n",
       "      <td>44,9112100000</td>\n",
       "      <td>5,0196360000</td>\n",
       "    </tr>\n",
       "    <tr>\n",
       "      <th>56516</th>\n",
       "      <td>202100056517</td>\n",
       "      <td>1</td>\n",
       "      <td>1</td>\n",
       "      <td>2021</td>\n",
       "      <td>10:55</td>\n",
       "      <td>1</td>\n",
       "      <td>33</td>\n",
       "      <td>33003</td>\n",
       "      <td>1</td>\n",
       "      <td>2</td>\n",
       "      <td>1</td>\n",
       "      <td>6</td>\n",
       "      <td>Voie rapide Bassens Ambes</td>\n",
       "      <td>44,9542747363</td>\n",
       "      <td>-0,5179211363</td>\n",
       "    </tr>\n",
       "    <tr>\n",
       "      <th>56517</th>\n",
       "      <td>202100056518</td>\n",
       "      <td>2</td>\n",
       "      <td>1</td>\n",
       "      <td>2021</td>\n",
       "      <td>18:00</td>\n",
       "      <td>3</td>\n",
       "      <td>78</td>\n",
       "      <td>78423</td>\n",
       "      <td>1</td>\n",
       "      <td>1</td>\n",
       "      <td>3</td>\n",
       "      <td>1</td>\n",
       "      <td>VOLTA (AVENUE)</td>\n",
       "      <td>48,7966700000</td>\n",
       "      <td>2,0505000000</td>\n",
       "    </tr>\n",
       "  </tbody>\n",
       "</table>\n",
       "<p>56518 rows × 15 columns</p>\n",
       "</div>"
      ],
      "text/plain": [
       "            Num_Acc  jour  mois    an   hrmn  lum dep    com  agg  int  atm  \\\n",
       "0      202100000001    30    11  2021  07:32    2  30  30319    1    1    1   \n",
       "1      202100000002    25     9  2021  14:20    1  51  51544    1    3    1   \n",
       "2      202100000003    15     7  2021  07:55    1  85  85048    2    1    7   \n",
       "3      202100000004    27     3  2021  19:45    5  93  93005    2    2    3   \n",
       "4      202100000005    25     2  2021  07:20    5  76  76429    2    1    1   \n",
       "...             ...   ...   ...   ...    ...  ...  ..    ...  ...  ...  ...   \n",
       "56513  202100056514     1     1  2021  06:10    3  33  33021    1    1    5   \n",
       "56514  202100056515     1     1  2021  10:20    1  38  38405    1    1    2   \n",
       "56515  202100056516     1     1  2021  18:00    3  26  26064    1    1    2   \n",
       "56516  202100056517     1     1  2021  10:55    1  33  33003    1    2    1   \n",
       "56517  202100056518     2     1  2021  18:00    3  78  78423    1    1    3   \n",
       "\n",
       "       col                                               adr            lat  \\\n",
       "0        1                                            CD 981  44,0389580000   \n",
       "1        3  Aire de repos croisement D20E9 après sortie D977  49,2421290000   \n",
       "2        6                           15 rue François Nicolas  46,9219500000   \n",
       "3        6                                    Route de Mitry  48,9493634583   \n",
       "4        2                                   PARIS. ROUTE DE  49,4083800000   \n",
       "...    ...                                               ...            ...   \n",
       "56513    6                                               NaN  44,5266190000   \n",
       "56514    6                                              D520  45,3802910000   \n",
       "56515    1                          Route départementale 538  44,9112100000   \n",
       "56516    6                         Voie rapide Bassens Ambes  44,9542747363   \n",
       "56517    1                                    VOLTA (AVENUE)  48,7966700000   \n",
       "\n",
       "                 long  \n",
       "0        4,3480220000  \n",
       "1        4,5545460000  \n",
       "2       -0,9644600000  \n",
       "3        2,5196639908  \n",
       "4        1,1458100000  \n",
       "...               ...  \n",
       "56513   -0,1955440000  \n",
       "56514    5,7049140000  \n",
       "56515    5,0196360000  \n",
       "56516   -0,5179211363  \n",
       "56517    2,0505000000  \n",
       "\n",
       "[56518 rows x 15 columns]"
      ]
     },
     "execution_count": 132,
     "metadata": {},
     "output_type": "execute_result"
    }
   ],
   "source": [
    "caracteristiques"
   ]
  },
  {
   "cell_type": "code",
   "execution_count": 133,
   "id": "0e78b06f",
   "metadata": {},
   "outputs": [],
   "source": [
    "#usagers['age'] = usagers['an'] - usagers['an_nais']\n",
    "# Calcul de l'âge de chaque usager et la creation d'une nouvelle colonne \"age\" pour determiner \n",
    "#l'age des usagers au moment d'accident. \n",
    "\n",
    "usagers['age'] = 2021 - usagers['an_nais']\n"
   ]
  },
  {
   "cell_type": "code",
   "execution_count": 136,
   "id": "14e92b80",
   "metadata": {},
   "outputs": [
    {
     "name": "stdout",
     "output_type": "stream",
     "text": [
      "        Num_Acc id_vehicule num_veh  place  catu  grav  sexe  an_nais  trajet  \\\n",
      "0  202100000001     201 764     B01      1     1     3     1   2000.0       1   \n",
      "1  202100000001     201 765     A01      1     1     1     1   1978.0       1   \n",
      "2  202100000002     201 762     A01      1     1     4     1   1983.0       0   \n",
      "3  202100000002     201 763     B01      1     1     3     1   1993.0       0   \n",
      "4  202100000003     201 761     A01      1     1     1     1   1995.0       1   \n",
      "\n",
      "   secu1  secu2  secu3  locp actp  etatp   age  \n",
      "0      0      9     -1     0    0     -1  21.0  \n",
      "1      1     -1     -1     0    0     -1  43.0  \n",
      "2      1     -1     -1     0    0     -1  38.0  \n",
      "3      1     -1     -1     0    0     -1  28.0  \n",
      "4      1      0     -1     0    0     -1  26.0  \n"
     ]
    }
   ],
   "source": [
    "print(usagers.head())"
   ]
  },
  {
   "cell_type": "code",
   "execution_count": 137,
   "id": "5d9e7a3c",
   "metadata": {},
   "outputs": [
    {
     "data": {
      "text/html": [
       "<div>\n",
       "<style scoped>\n",
       "    .dataframe tbody tr th:only-of-type {\n",
       "        vertical-align: middle;\n",
       "    }\n",
       "\n",
       "    .dataframe tbody tr th {\n",
       "        vertical-align: top;\n",
       "    }\n",
       "\n",
       "    .dataframe thead th {\n",
       "        text-align: right;\n",
       "    }\n",
       "</style>\n",
       "<table border=\"1\" class=\"dataframe\">\n",
       "  <thead>\n",
       "    <tr style=\"text-align: right;\">\n",
       "      <th></th>\n",
       "      <th>Num_Acc</th>\n",
       "      <th>id_vehicule</th>\n",
       "      <th>num_veh</th>\n",
       "      <th>place</th>\n",
       "      <th>catu</th>\n",
       "      <th>grav</th>\n",
       "      <th>sexe</th>\n",
       "      <th>an_nais</th>\n",
       "      <th>trajet</th>\n",
       "      <th>secu1</th>\n",
       "      <th>secu2</th>\n",
       "      <th>secu3</th>\n",
       "      <th>locp</th>\n",
       "      <th>actp</th>\n",
       "      <th>etatp</th>\n",
       "      <th>age</th>\n",
       "    </tr>\n",
       "  </thead>\n",
       "  <tbody>\n",
       "    <tr>\n",
       "      <th>0</th>\n",
       "      <td>202100000001</td>\n",
       "      <td>201 764</td>\n",
       "      <td>B01</td>\n",
       "      <td>1</td>\n",
       "      <td>1</td>\n",
       "      <td>3</td>\n",
       "      <td>1</td>\n",
       "      <td>2000.0</td>\n",
       "      <td>1</td>\n",
       "      <td>0</td>\n",
       "      <td>9</td>\n",
       "      <td>-1</td>\n",
       "      <td>0</td>\n",
       "      <td>0</td>\n",
       "      <td>-1</td>\n",
       "      <td>21.0</td>\n",
       "    </tr>\n",
       "    <tr>\n",
       "      <th>1</th>\n",
       "      <td>202100000001</td>\n",
       "      <td>201 765</td>\n",
       "      <td>A01</td>\n",
       "      <td>1</td>\n",
       "      <td>1</td>\n",
       "      <td>1</td>\n",
       "      <td>1</td>\n",
       "      <td>1978.0</td>\n",
       "      <td>1</td>\n",
       "      <td>1</td>\n",
       "      <td>-1</td>\n",
       "      <td>-1</td>\n",
       "      <td>0</td>\n",
       "      <td>0</td>\n",
       "      <td>-1</td>\n",
       "      <td>43.0</td>\n",
       "    </tr>\n",
       "    <tr>\n",
       "      <th>2</th>\n",
       "      <td>202100000002</td>\n",
       "      <td>201 762</td>\n",
       "      <td>A01</td>\n",
       "      <td>1</td>\n",
       "      <td>1</td>\n",
       "      <td>4</td>\n",
       "      <td>1</td>\n",
       "      <td>1983.0</td>\n",
       "      <td>0</td>\n",
       "      <td>1</td>\n",
       "      <td>-1</td>\n",
       "      <td>-1</td>\n",
       "      <td>0</td>\n",
       "      <td>0</td>\n",
       "      <td>-1</td>\n",
       "      <td>38.0</td>\n",
       "    </tr>\n",
       "    <tr>\n",
       "      <th>3</th>\n",
       "      <td>202100000002</td>\n",
       "      <td>201 763</td>\n",
       "      <td>B01</td>\n",
       "      <td>1</td>\n",
       "      <td>1</td>\n",
       "      <td>3</td>\n",
       "      <td>1</td>\n",
       "      <td>1993.0</td>\n",
       "      <td>0</td>\n",
       "      <td>1</td>\n",
       "      <td>-1</td>\n",
       "      <td>-1</td>\n",
       "      <td>0</td>\n",
       "      <td>0</td>\n",
       "      <td>-1</td>\n",
       "      <td>28.0</td>\n",
       "    </tr>\n",
       "    <tr>\n",
       "      <th>4</th>\n",
       "      <td>202100000003</td>\n",
       "      <td>201 761</td>\n",
       "      <td>A01</td>\n",
       "      <td>1</td>\n",
       "      <td>1</td>\n",
       "      <td>1</td>\n",
       "      <td>1</td>\n",
       "      <td>1995.0</td>\n",
       "      <td>1</td>\n",
       "      <td>1</td>\n",
       "      <td>0</td>\n",
       "      <td>-1</td>\n",
       "      <td>0</td>\n",
       "      <td>0</td>\n",
       "      <td>-1</td>\n",
       "      <td>26.0</td>\n",
       "    </tr>\n",
       "    <tr>\n",
       "      <th>...</th>\n",
       "      <td>...</td>\n",
       "      <td>...</td>\n",
       "      <td>...</td>\n",
       "      <td>...</td>\n",
       "      <td>...</td>\n",
       "      <td>...</td>\n",
       "      <td>...</td>\n",
       "      <td>...</td>\n",
       "      <td>...</td>\n",
       "      <td>...</td>\n",
       "      <td>...</td>\n",
       "      <td>...</td>\n",
       "      <td>...</td>\n",
       "      <td>...</td>\n",
       "      <td>...</td>\n",
       "      <td>...</td>\n",
       "    </tr>\n",
       "    <tr>\n",
       "      <th>129148</th>\n",
       "      <td>202100056516</td>\n",
       "      <td>100 885</td>\n",
       "      <td>A01</td>\n",
       "      <td>1</td>\n",
       "      <td>1</td>\n",
       "      <td>4</td>\n",
       "      <td>1</td>\n",
       "      <td>1975.0</td>\n",
       "      <td>0</td>\n",
       "      <td>1</td>\n",
       "      <td>-1</td>\n",
       "      <td>-1</td>\n",
       "      <td>0</td>\n",
       "      <td>0</td>\n",
       "      <td>-1</td>\n",
       "      <td>46.0</td>\n",
       "    </tr>\n",
       "    <tr>\n",
       "      <th>129149</th>\n",
       "      <td>202100056516</td>\n",
       "      <td>100 886</td>\n",
       "      <td>B01</td>\n",
       "      <td>1</td>\n",
       "      <td>1</td>\n",
       "      <td>4</td>\n",
       "      <td>1</td>\n",
       "      <td>2002.0</td>\n",
       "      <td>5</td>\n",
       "      <td>1</td>\n",
       "      <td>-1</td>\n",
       "      <td>-1</td>\n",
       "      <td>0</td>\n",
       "      <td>0</td>\n",
       "      <td>-1</td>\n",
       "      <td>19.0</td>\n",
       "    </tr>\n",
       "    <tr>\n",
       "      <th>129150</th>\n",
       "      <td>202100056517</td>\n",
       "      <td>100 884</td>\n",
       "      <td>A01</td>\n",
       "      <td>1</td>\n",
       "      <td>1</td>\n",
       "      <td>3</td>\n",
       "      <td>1</td>\n",
       "      <td>1999.0</td>\n",
       "      <td>0</td>\n",
       "      <td>0</td>\n",
       "      <td>-1</td>\n",
       "      <td>-1</td>\n",
       "      <td>0</td>\n",
       "      <td>0</td>\n",
       "      <td>-1</td>\n",
       "      <td>22.0</td>\n",
       "    </tr>\n",
       "    <tr>\n",
       "      <th>129151</th>\n",
       "      <td>202100056518</td>\n",
       "      <td>100 882</td>\n",
       "      <td>A01</td>\n",
       "      <td>1</td>\n",
       "      <td>1</td>\n",
       "      <td>3</td>\n",
       "      <td>1</td>\n",
       "      <td>1968.0</td>\n",
       "      <td>3</td>\n",
       "      <td>1</td>\n",
       "      <td>0</td>\n",
       "      <td>-1</td>\n",
       "      <td>-1</td>\n",
       "      <td>-1</td>\n",
       "      <td>-1</td>\n",
       "      <td>53.0</td>\n",
       "    </tr>\n",
       "    <tr>\n",
       "      <th>129152</th>\n",
       "      <td>202100056518</td>\n",
       "      <td>100 883</td>\n",
       "      <td>B01</td>\n",
       "      <td>1</td>\n",
       "      <td>1</td>\n",
       "      <td>3</td>\n",
       "      <td>1</td>\n",
       "      <td>1985.0</td>\n",
       "      <td>3</td>\n",
       "      <td>1</td>\n",
       "      <td>0</td>\n",
       "      <td>-1</td>\n",
       "      <td>-1</td>\n",
       "      <td>-1</td>\n",
       "      <td>-1</td>\n",
       "      <td>36.0</td>\n",
       "    </tr>\n",
       "  </tbody>\n",
       "</table>\n",
       "<p>129153 rows × 16 columns</p>\n",
       "</div>"
      ],
      "text/plain": [
       "             Num_Acc id_vehicule num_veh  place  catu  grav  sexe  an_nais  \\\n",
       "0       202100000001     201 764     B01      1     1     3     1   2000.0   \n",
       "1       202100000001     201 765     A01      1     1     1     1   1978.0   \n",
       "2       202100000002     201 762     A01      1     1     4     1   1983.0   \n",
       "3       202100000002     201 763     B01      1     1     3     1   1993.0   \n",
       "4       202100000003     201 761     A01      1     1     1     1   1995.0   \n",
       "...              ...         ...     ...    ...   ...   ...   ...      ...   \n",
       "129148  202100056516     100 885     A01      1     1     4     1   1975.0   \n",
       "129149  202100056516     100 886     B01      1     1     4     1   2002.0   \n",
       "129150  202100056517     100 884     A01      1     1     3     1   1999.0   \n",
       "129151  202100056518     100 882     A01      1     1     3     1   1968.0   \n",
       "129152  202100056518     100 883     B01      1     1     3     1   1985.0   \n",
       "\n",
       "        trajet  secu1  secu2  secu3  locp actp  etatp   age  \n",
       "0            1      0      9     -1     0    0     -1  21.0  \n",
       "1            1      1     -1     -1     0    0     -1  43.0  \n",
       "2            0      1     -1     -1     0    0     -1  38.0  \n",
       "3            0      1     -1     -1     0    0     -1  28.0  \n",
       "4            1      1      0     -1     0    0     -1  26.0  \n",
       "...        ...    ...    ...    ...   ...  ...    ...   ...  \n",
       "129148       0      1     -1     -1     0    0     -1  46.0  \n",
       "129149       5      1     -1     -1     0    0     -1  19.0  \n",
       "129150       0      0     -1     -1     0    0     -1  22.0  \n",
       "129151       3      1      0     -1    -1   -1     -1  53.0  \n",
       "129152       3      1      0     -1    -1   -1     -1  36.0  \n",
       "\n",
       "[129153 rows x 16 columns]"
      ]
     },
     "execution_count": 137,
     "metadata": {},
     "output_type": "execute_result"
    }
   ],
   "source": [
    "usagers"
   ]
  },
  {
   "cell_type": "code",
   "execution_count": 138,
   "id": "c7c73177",
   "metadata": {},
   "outputs": [
    {
     "name": "stdout",
     "output_type": "stream",
     "text": [
      "La moyenne des âges des usagers est : 37.90457306917501\n"
     ]
    }
   ],
   "source": [
    "# Calcul de la moyenne âges des usagers\n",
    "\n",
    "moyenne_age = usagers['age'].dropna().mean()\n",
    "print(\"La moyenne des âges des usagers est :\", moyenne_age)"
   ]
  },
  {
   "cell_type": "raw",
   "id": "db3003ee",
   "metadata": {},
   "source": [
    "Le calcul de la moyenne de l'âges est cohérent avec des valeurs réalistes. La moyenne d'âge des usagers est d'environ 38 ans."
   ]
  },
  {
   "cell_type": "code",
   "execution_count": 139,
   "id": "bcc95d28",
   "metadata": {},
   "outputs": [
    {
     "name": "stdout",
     "output_type": "stream",
     "text": [
      "La moyenne des âges des usagers est : 1983.095426930825\n"
     ]
    }
   ],
   "source": [
    "# Charger les données dans un dataframe\n",
    "#df age = pd.read_csv('nom_du_fichier.csv')\n",
    "\n",
    "# Calculer la moyenne des âges des usagers\n",
    "moyenne_age = usagers['an_nais'].mean()\n",
    "\n",
    "print(\"La moyenne des âges des usagers est :\", moyenne_age)\n"
   ]
  },
  {
   "cell_type": "raw",
   "id": "2de63ca1",
   "metadata": {},
   "source": [
    "# Calculer la moyenne des âges des usagers en excluant les valeurs manquantes\n",
    "moyenne_age = usagers['an_nais'].dropna().mean()\n",
    "print(\"La moyenne des âges des usagers est :\", moyenne_age)"
   ]
  },
  {
   "cell_type": "code",
   "execution_count": 140,
   "id": "5964f0ca",
   "metadata": {},
   "outputs": [
    {
     "data": {
      "text/plain": [
       "37.90457306917501"
      ]
     },
     "execution_count": 140,
     "metadata": {},
     "output_type": "execute_result"
    }
   ],
   "source": [
    "usagers['age'].mean()"
   ]
  },
  {
   "cell_type": "raw",
   "id": "63959d14",
   "metadata": {},
   "source": [
    "On va calculer l'age moyenne pour chaque categorie des usagers : Conducteur=1, Passager=2, Pieton=3\n",
    "Pour cela on va créer une nouvelle variable \"moyennes_age_par_catu\""
   ]
  },
  {
   "cell_type": "code",
   "execution_count": 141,
   "id": "701d88e7",
   "metadata": {},
   "outputs": [
    {
     "name": "stdout",
     "output_type": "stream",
     "text": [
      "catu\n",
      "1    39.601673\n",
      "2    29.018792\n",
      "3    42.040743\n",
      "Name: age, dtype: float64\n"
     ]
    }
   ],
   "source": [
    "moyennes_age_par_catu = usagers.groupby('catu')['age'].mean()\n",
    "print(moyennes_age_par_catu)"
   ]
  },
  {
   "cell_type": "raw",
   "id": "81bb274c",
   "metadata": {},
   "source": [
    "On vois donc maintenat, que le moyenne age pour les usagers est, les conducteurs est de 39,5 ans, \n",
    "moyenne age pour les Passagers est de 29 ans, \n",
    "et le moyenne age pour les Piétons est de 42 ans"
   ]
  },
  {
   "cell_type": "code",
   "execution_count": 142,
   "id": "45a73f86",
   "metadata": {},
   "outputs": [
    {
     "name": "stdout",
     "output_type": "stream",
     "text": [
      "      min    max       mean\n",
      "catu                       \n",
      "1     0.0  102.0  39.601673\n",
      "2     0.0  109.0  29.018792\n",
      "3     0.0  101.0  42.040743\n"
     ]
    }
   ],
   "source": [
    "age_stats_par_catu = usagers.groupby('catu')['age'].agg(['min', 'max', 'mean'])\n",
    "print(age_stats_par_catu)"
   ]
  },
  {
   "cell_type": "code",
   "execution_count": 143,
   "id": "0667dce8",
   "metadata": {},
   "outputs": [
    {
     "name": "stdout",
     "output_type": "stream",
     "text": [
      "min       0.000000\n",
      "max     101.000000\n",
      "mean     42.040743\n",
      "Name: 3, dtype: float64\n"
     ]
    }
   ],
   "source": [
    "print(age_stats_par_catu.loc[3])"
   ]
  },
  {
   "cell_type": "code",
   "execution_count": 144,
   "id": "64a0a301",
   "metadata": {},
   "outputs": [
    {
     "data": {
      "text/html": [
       "<div>\n",
       "<style scoped>\n",
       "    .dataframe tbody tr th:only-of-type {\n",
       "        vertical-align: middle;\n",
       "    }\n",
       "\n",
       "    .dataframe tbody tr th {\n",
       "        vertical-align: top;\n",
       "    }\n",
       "\n",
       "    .dataframe thead th {\n",
       "        text-align: right;\n",
       "    }\n",
       "</style>\n",
       "<table border=\"1\" class=\"dataframe\">\n",
       "  <thead>\n",
       "    <tr style=\"text-align: right;\">\n",
       "      <th></th>\n",
       "      <th>min</th>\n",
       "      <th>max</th>\n",
       "      <th>mean</th>\n",
       "    </tr>\n",
       "    <tr>\n",
       "      <th>catu</th>\n",
       "      <th></th>\n",
       "      <th></th>\n",
       "      <th></th>\n",
       "    </tr>\n",
       "  </thead>\n",
       "  <tbody>\n",
       "    <tr>\n",
       "      <th>2</th>\n",
       "      <td>0.0</td>\n",
       "      <td>109.0</td>\n",
       "      <td>29.018792</td>\n",
       "    </tr>\n",
       "  </tbody>\n",
       "</table>\n",
       "</div>"
      ],
      "text/plain": [
       "      min    max       mean\n",
       "catu                       \n",
       "2     0.0  109.0  29.018792"
      ]
     },
     "execution_count": 144,
     "metadata": {},
     "output_type": "execute_result"
    }
   ],
   "source": [
    "age_stats_par_catu[age_stats_par_catu['max'] == 109]"
   ]
  },
  {
   "cell_type": "code",
   "execution_count": 145,
   "id": "fabf0f03",
   "metadata": {},
   "outputs": [
    {
     "name": "stdout",
     "output_type": "stream",
     "text": [
      "Index de la ligne avec l'âge maximal pour catu 3 : 2\n"
     ]
    }
   ],
   "source": [
    "index_max_age = age_stats_par_catu['max'].idxmax()\n",
    "print(\"Index de la ligne avec l'âge maximal pour catu 3 :\", index_max_age)"
   ]
  },
  {
   "cell_type": "code",
   "execution_count": 146,
   "id": "d815959c",
   "metadata": {},
   "outputs": [
    {
     "ename": "IndexError",
     "evalue": "index 0 is out of bounds for axis 0 with size 0",
     "output_type": "error",
     "traceback": [
      "\u001b[1;31m---------------------------------------------------------------------------\u001b[0m",
      "\u001b[1;31mIndexError\u001b[0m                                Traceback (most recent call last)",
      "\u001b[1;32m~\\AppData\\Local\\Temp\\ipykernel_8840\\1697561679.py\u001b[0m in \u001b[0;36m<module>\u001b[1;34m\u001b[0m\n\u001b[1;32m----> 1\u001b[1;33m \u001b[0mnum_accident\u001b[0m \u001b[1;33m=\u001b[0m \u001b[0musagers\u001b[0m\u001b[1;33m.\u001b[0m\u001b[0mloc\u001b[0m\u001b[1;33m[\u001b[0m\u001b[1;33m(\u001b[0m\u001b[0musagers\u001b[0m\u001b[1;33m[\u001b[0m\u001b[1;34m'catu'\u001b[0m\u001b[1;33m]\u001b[0m \u001b[1;33m==\u001b[0m \u001b[1;36m3\u001b[0m\u001b[1;33m)\u001b[0m \u001b[1;33m&\u001b[0m \u001b[1;33m(\u001b[0m\u001b[0musagers\u001b[0m\u001b[1;33m[\u001b[0m\u001b[1;34m'age'\u001b[0m\u001b[1;33m]\u001b[0m \u001b[1;33m==\u001b[0m \u001b[1;36m109\u001b[0m\u001b[1;33m)\u001b[0m\u001b[1;33m,\u001b[0m \u001b[1;34m'Num_Acc'\u001b[0m\u001b[1;33m]\u001b[0m\u001b[1;33m.\u001b[0m\u001b[0mvalues\u001b[0m\u001b[1;33m[\u001b[0m\u001b[1;36m0\u001b[0m\u001b[1;33m]\u001b[0m\u001b[1;33m\u001b[0m\u001b[1;33m\u001b[0m\u001b[0m\n\u001b[0m\u001b[0;32m      2\u001b[0m \u001b[0mprint\u001b[0m\u001b[1;33m(\u001b[0m\u001b[1;34m\"Numéro de l'accident :\"\u001b[0m\u001b[1;33m,\u001b[0m \u001b[0mnum_accident\u001b[0m\u001b[1;33m)\u001b[0m\u001b[1;33m\u001b[0m\u001b[1;33m\u001b[0m\u001b[0m\n",
      "\u001b[1;31mIndexError\u001b[0m: index 0 is out of bounds for axis 0 with size 0"
     ]
    }
   ],
   "source": [
    "num_accident = usagers.loc[(usagers['catu'] == 3) & (usagers['age'] == 109), 'Num_Acc'].values[0]\n",
    "print(\"Numéro de l'accident :\", num_accident)"
   ]
  },
  {
   "cell_type": "code",
   "execution_count": 147,
   "id": "07559538",
   "metadata": {},
   "outputs": [
    {
     "data": {
      "text/plain": [
       "0"
      ]
     },
     "execution_count": 147,
     "metadata": {},
     "output_type": "execute_result"
    }
   ],
   "source": [
    "usagers['Num_Acc'].isna().sum()"
   ]
  },
  {
   "cell_type": "code",
   "execution_count": 148,
   "id": "4f4bcc89",
   "metadata": {},
   "outputs": [
    {
     "data": {
      "text/plain": [
       "array([ 62.,  48.,  76.,  35.,  67.,   1.,  26.,  15.,  12.,   8.,  63.,\n",
       "         0.,  54.,  56.,  14.,  74.,  69.,  70.,  24.,   9.,  17.,  21.,\n",
       "        81.,  25.,  11.,  55.,   7.,  96.,  68.,  45.,  23.,  64.,  66.,\n",
       "        44.,  31.,  92.,  72.,  41.,  53.,   6.,  79.,   5.,   3.,  89.,\n",
       "        34.,  59.,  58.,  75.,  33.,  16.,  71.,  77.,  13.,  61., 101.,\n",
       "        65.,  78.,  36.,  93.,  84.,  27.,  85.,  43.,   4.,  10.,  18.,\n",
       "        95.,  88.,  19.,  39.,  50.,  51.,  83.,  47.,  73.,  60.,  22.,\n",
       "        37.,  29.,  20.,  28.,  32.,  49.,   2.,  30.,  42.,  52.,  38.,\n",
       "        87.,  82.,  57.,  40.,  46.,  86.,  80.,  91.,  90.,  94.,  98.,\n",
       "        97.,  99.])"
      ]
     },
     "execution_count": 148,
     "metadata": {},
     "output_type": "execute_result"
    }
   ],
   "source": [
    "usagers[usagers['catu'] == 3]['age'].unique()"
   ]
  },
  {
   "cell_type": "code",
   "execution_count": 149,
   "id": "1f75891f",
   "metadata": {},
   "outputs": [
    {
     "data": {
      "text/plain": [
       "<AxesSubplot:xlabel='age'>"
      ]
     },
     "execution_count": 149,
     "metadata": {},
     "output_type": "execute_result"
    },
    {
     "data": {
      "image/png": "[encoded data removed]",
      "text/plain": [
       "<Figure size 640x480 with 1 Axes>"
      ]
     },
     "metadata": {},
     "output_type": "display_data"
    }
   ],
   "source": [
    "\n",
    "# créer une sous-table contenant les usagers dont la catégorie est catu = 3\n",
    "usagers_catu3 = usagers.loc[usagers['catu'] == 3]\n",
    "\n",
    "# créer le graphique de boîte à moustaches\n",
    "sns.boxplot(x='age', data=usagers_catu3)\n"
   ]
  },
  {
   "cell_type": "code",
   "execution_count": 150,
   "id": "653e27d3",
   "metadata": {},
   "outputs": [],
   "source": [
    "usagers_catu3 = usagers[usagers['catu'] == 3]"
   ]
  },
  {
   "cell_type": "code",
   "execution_count": 151,
   "id": "38ba04ac",
   "metadata": {},
   "outputs": [],
   "source": [
    "Q1 = usagers_catu3['age'].quantile(0.25)\n",
    "Q3 = usagers_catu3['age'].quantile(0.75)\n",
    "IQR = Q3 - Q1"
   ]
  },
  {
   "cell_type": "code",
   "execution_count": 152,
   "id": "b6f91a83",
   "metadata": {},
   "outputs": [],
   "source": [
    "Q1 = usagers_catu3['age'].quantile(0.25)\n",
    "Q3 = usagers_catu3['age'].quantile(0.75)\n",
    "IQR = Q3 - Q1"
   ]
  },
  {
   "cell_type": "code",
   "execution_count": 153,
   "id": "36e782e2",
   "metadata": {},
   "outputs": [],
   "source": [
    "borne_inf = Q1 - 1.5*IQR\n",
    "borne_sup = Q3 + 1.5*IQR"
   ]
  },
  {
   "cell_type": "code",
   "execution_count": 154,
   "id": "9829f761",
   "metadata": {},
   "outputs": [],
   "source": [
    "usagers_catu3_sans_aberrations = usagers_catu3[(usagers_catu3['age'] >= borne_inf) & (usagers_catu3['age'] <= borne_sup)]"
   ]
  },
  {
   "cell_type": "code",
   "execution_count": 155,
   "id": "bf0c276c",
   "metadata": {},
   "outputs": [
    {
     "name": "stdout",
     "output_type": "stream",
     "text": [
      "      min    max       mean\n",
      "catu                       \n",
      "3     0.0  101.0  42.040743\n"
     ]
    }
   ],
   "source": [
    "# Elimination des valeurs aberrantes\n",
    "Q1 = usagers.loc[usagers['catu']==3, 'age'].quantile(0.25)\n",
    "Q3 = usagers.loc[usagers['catu']==3, 'age'].quantile(0.75)\n",
    "IQR = Q3 - Q1\n",
    "borne_inf = Q1 - 1.5*IQR\n",
    "borne_sup = Q3 + 1.5*IQR\n",
    "usagers_sans_aberrant = usagers[(usagers['catu'] == 3) & (usagers['age'] >= borne_inf) & (usagers['age'] <= borne_sup)]\n",
    "\n",
    "# Affichage des statistiques\n",
    "age_stats_sans_aberrant = usagers_sans_aberrant.groupby('catu')['age'].agg(['min', 'max', 'mean'])\n",
    "print(age_stats_sans_aberrant)\n"
   ]
  },
  {
   "cell_type": "code",
   "execution_count": 156,
   "id": "3dbef3c9",
   "metadata": {},
   "outputs": [
    {
     "data": {
      "text/plain": [
       "array([ 62.,  48.,  76.,  35.,  67.,   1.,  26.,  15.,  12.,   8.,  63.,\n",
       "         0.,  54.,  56.,  14.,  74.,  69.,  70.,  24.,   9.,  17.,  21.,\n",
       "        81.,  25.,  11.,  55.,   7.,  96.,  68.,  45.,  23.,  64.,  66.,\n",
       "        44.,  31.,  92.,  72.,  41.,  53.,   6.,  79.,   5.,   3.,  89.,\n",
       "        34.,  59.,  58.,  75.,  33.,  16.,  71.,  77.,  13.,  61., 101.,\n",
       "        65.,  78.,  36.,  93.,  84.,  27.,  85.,  43.,   4.,  10.,  18.,\n",
       "        95.,  88.,  19.,  39.,  50.,  51.,  83.,  47.,  73.,  60.,  22.,\n",
       "        37.,  29.,  20.,  28.,  32.,  49.,   2.,  30.,  42.,  52.,  38.,\n",
       "        87.,  82.,  57.,  40.,  46.,  86.,  80.,  91.,  90.,  94.,  98.,\n",
       "        97.,  99.])"
      ]
     },
     "execution_count": 156,
     "metadata": {},
     "output_type": "execute_result"
    }
   ],
   "source": [
    "usagers[usagers['catu'] == 3]['age'].unique()"
   ]
  },
  {
   "cell_type": "code",
   "execution_count": 157,
   "id": "c89cb8e9",
   "metadata": {},
   "outputs": [
    {
     "data": {
      "text/plain": [
       " 1    86196\n",
       " 2    39895\n",
       "-1     3062\n",
       "Name: sexe, dtype: int64"
      ]
     },
     "execution_count": 157,
     "metadata": {},
     "output_type": "execute_result"
    }
   ],
   "source": [
    "usagers['sexe'].value_counts()"
   ]
  },
  {
   "cell_type": "code",
   "execution_count": 158,
   "id": "5a84d3d1",
   "metadata": {},
   "outputs": [
    {
     "data": {
      "image/png": "[encoded data removed]",
      "text/plain": [
       "<Figure size 600x400 with 1 Axes>"
      ]
     },
     "metadata": {},
     "output_type": "display_data"
    }
   ],
   "source": [
    "import seaborn as sns\n",
    "import matplotlib.pyplot as plt\n",
    "\n",
    "sns.set_style(\"whitegrid\")\n",
    "plt.figure(figsize=(6,4))\n",
    "sns.countplot(x='sexe', data=usagers)\n",
    "plt.title('Nombre d\\'accidents par sexe')\n",
    "plt.xlabel('Sexe (1=Masculin, 2=Féminin)')\n",
    "plt.ylabel('Nombre d\\'accidents')\n",
    "plt.show()"
   ]
  },
  {
   "cell_type": "code",
   "execution_count": 159,
   "id": "2a008f8e",
   "metadata": {},
   "outputs": [
    {
     "data": {
      "image/png": "[encoded data removed]",
      "text/plain": [
       "<Figure size 640x480 with 1 Axes>"
      ]
     },
     "metadata": {},
     "output_type": "display_data"
    }
   ],
   "source": [
    "import seaborn as sns\n",
    "import matplotlib.pyplot as plt\n",
    "\n",
    "sns.countplot(x='catu', data=usagers)\n",
    "plt.title('Nombre d\\'accidents par catégorie d\\'usagers')\n",
    "plt.xlabel('Catégorie d\\'usagers')\n",
    "plt.ylabel('Nombre d\\'accidents')\n",
    "plt.show()"
   ]
  },
  {
   "cell_type": "code",
   "execution_count": 160,
   "id": "30dbb9f6",
   "metadata": {},
   "outputs": [
    {
     "data": {
      "text/plain": [
       "array([ 1,  7, 60, 32, 99, 37, 10,  2, 15, 14,  0, 33, 31, 34, 30, 50,  3,\n",
       "       39, 36, 13, 80, 43, 38, 20, 40, 17, 35, 21, 16, 41, -1, 42],\n",
       "      dtype=int64)"
      ]
     },
     "execution_count": 160,
     "metadata": {},
     "output_type": "execute_result"
    }
   ],
   "source": [
    "vehicules['catv'].unique()"
   ]
  },
  {
   "cell_type": "code",
   "execution_count": 161,
   "id": "ec9ec3d2",
   "metadata": {},
   "outputs": [
    {
     "data": {
      "image/png": "[encoded data removed]",
      "text/plain": [
       "<Figure size 640x480 with 1 Axes>"
      ]
     },
     "metadata": {},
     "output_type": "display_data"
    }
   ],
   "source": [
    "import matplotlib.pyplot as plt\n",
    "vehicules['catv'].value_counts().plot(kind='bar')\n",
    "plt.title('Nombre d\\'accidents par type de véhicule')\n",
    "plt.xlabel('Type de véhicule')\n",
    "plt.ylabel('Nombre d\\'accidents')\n",
    "plt.show()"
   ]
  },
  {
   "cell_type": "code",
   "execution_count": 162,
   "id": "016211e2",
   "metadata": {},
   "outputs": [],
   "source": [
    "# On calcule le nombre d'accidents par commune\n",
    "accidents_par_commune = caracteristiques['com'].value_counts()"
   ]
  },
  {
   "cell_type": "code",
   "execution_count": 163,
   "id": "e85d049d",
   "metadata": {},
   "outputs": [
    {
     "name": "stdout",
     "output_type": "stream",
     "text": [
      "75116    507\n",
      "75112    434\n",
      "75119    384\n",
      "97302    377\n",
      "75115    368\n",
      "        ... \n",
      "68176      1\n",
      "49183      1\n",
      "49224      1\n",
      "49235      1\n",
      "33021      1\n",
      "Name: com, Length: 11150, dtype: int64\n"
     ]
    }
   ],
   "source": [
    "print (accidents_par_commune)"
   ]
  },
  {
   "cell_type": "code",
   "execution_count": 164,
   "id": "b8a278a8",
   "metadata": {},
   "outputs": [
    {
     "data": {
      "image/png": "[encoded data removed]",
      "text/plain": [
       "<Figure size 640x480 with 1 Axes>"
      ]
     },
     "metadata": {},
     "output_type": "display_data"
    }
   ],
   "source": [
    "# On ne garde que les 10 communes avec le plus d'accidents\n",
    "top_10_communes = accidents_par_commune[:10]\n",
    "# On affiche le résultat sous forme de graphique à barres\n",
    "plt.bar(top_10_communes.index, top_10_communes.values)\n",
    "plt.title(\"Top 10 des communes avec le plus d'accidents\")\n",
    "plt.xlabel(\"Commune\")\n",
    "plt.ylabel(\"Nombre d'accidents\")\n",
    "plt.show()"
   ]
  },
  {
   "cell_type": "code",
   "execution_count": 165,
   "id": "e6de1890",
   "metadata": {},
   "outputs": [
    {
     "data": {
      "image/png": "[encoded data removed]",
      "text/plain": [
       "<Figure size 1500x800 with 1 Axes>"
      ]
     },
     "metadata": {},
     "output_type": "display_data"
    }
   ],
   "source": [
    "# sélection des 20 premières communes\n",
    "top_20_communes = accidents_par_commune.head(25)\n",
    "# création du graphique\n",
    "plt.figure(figsize=(15,8))\n",
    "plt.bar(top_20_communes.index, top_20_communes.values)\n",
    "# plt.xticks(rotation=90)\n",
    "plt.xlabel('Commune')\n",
    "plt.ylabel('Nombre d\\'accidents')\n",
    "plt.title('Top 25 des communes ayant le plus d\\'accidents')\n",
    "plt.show()"
   ]
  },
  {
   "cell_type": "code",
   "execution_count": 166,
   "id": "d210e96c",
   "metadata": {},
   "outputs": [
    {
     "data": {
      "text/plain": [
       "array([1, 3, 2, 9, 6, 4, 7, 8, 5], dtype=int64)"
      ]
     },
     "execution_count": 166,
     "metadata": {},
     "output_type": "execute_result"
    }
   ],
   "source": [
    "caracteristiques['int'].unique()"
   ]
  },
  {
   "cell_type": "code",
   "execution_count": null,
   "id": "89624ae5",
   "metadata": {},
   "outputs": [],
   "source": []
  },
  {
   "cell_type": "markdown",
   "id": "37e785eb",
   "metadata": {},
   "source": [
    "# Nous peuvent voir dans quel type d'entersection le plus accident se reprodusent \n",
    "\n",
    "int - parametre indicant dans quel intersection l'accident se produit\n",
    "\n",
    "Intersection :\n",
    "\n",
    "1 – Hors intersection\n",
    "2 – Intersection en X\n",
    "3 – Intersection en T\n",
    "4 – Intersection en Y\n",
    "5 – Intersection à plus de 4 branches\n",
    "6 – Giratoire\n",
    "7 – Place\n",
    "8 – Passage à niveau"
   ]
  },
  {
   "cell_type": "code",
   "execution_count": 167,
   "id": "4a8a5747",
   "metadata": {},
   "outputs": [
    {
     "data": {
      "text/plain": [
       "<AxesSubplot:xlabel='int', ylabel='count'>"
      ]
     },
     "execution_count": 167,
     "metadata": {},
     "output_type": "execute_result"
    },
    {
     "data": {
      "image/png": "[encoded data removed]",
      "text/plain": [
       "<Figure size 640x480 with 1 Axes>"
      ]
     },
     "metadata": {},
     "output_type": "display_data"
    }
   ],
   "source": [
    "sns.countplot(x='int', data=caracteristiques)"
   ]
  },
  {
   "cell_type": "markdown",
   "id": "22306358",
   "metadata": {},
   "source": [
    "# Quels sont des conditions atmosphériques pendant l'accident"
   ]
  },
  {
   "cell_type": "code",
   "execution_count": 168,
   "id": "959357ec",
   "metadata": {},
   "outputs": [
    {
     "data": {
      "text/plain": [
       "array([ 1,  7,  3,  2,  8,  9,  5,  4, -1,  6], dtype=int64)"
      ]
     },
     "execution_count": 168,
     "metadata": {},
     "output_type": "execute_result"
    }
   ],
   "source": [
    "caracteristiques['atm'].unique()"
   ]
  },
  {
   "cell_type": "raw",
   "id": "7da0ea8f",
   "metadata": {},
   "source": [
    "atm :\n",
    "Conditions atmosphériques :\n",
    "-1 – Non renseigné\n",
    "1 – Normale\n",
    "2 – Pluie légère\n",
    "3 – Pluie forte\n",
    "4 – Neige - grêle\n",
    "5 – Brouillard - fumée\n",
    "6 – Vent fort - tempête\n",
    "7 – Temps éblouissant\n",
    "8 – Temps couvert\n",
    "9 – Autre"
   ]
  },
  {
   "cell_type": "code",
   "execution_count": 169,
   "id": "f1ab9b65",
   "metadata": {},
   "outputs": [
    {
     "data": {
      "text/plain": [
       "<AxesSubplot:xlabel='atm', ylabel='count'>"
      ]
     },
     "execution_count": 169,
     "metadata": {},
     "output_type": "execute_result"
    },
    {
     "data": {
      "image/png": "[encoded data removed]",
      "text/plain": [
       "<Figure size 640x480 with 1 Axes>"
      ]
     },
     "metadata": {},
     "output_type": "display_data"
    }
   ],
   "source": [
    "sns.countplot(x='atm', data=caracteristiques)"
   ]
  },
  {
   "cell_type": "markdown",
   "id": "dce5ab16",
   "metadata": {},
   "source": [
    "# Quantité des véhicules impliqués dans l'accident et type de collision  :\n",
    "col\n",
    "Type de collision :\n",
    "-1 – Non renseigné\n",
    "1 – Deux véhicules - frontale\n",
    "2 – Deux véhicules – par l’arrière\n",
    "3 – Deux véhicules – par le coté\n",
    "4 – Trois véhicules et plus – en chaîne\n",
    "5 – Trois véhicules et plus - collisions multiples\n",
    "6 – Autre collision\n",
    "7 – Sans collision"
   ]
  },
  {
   "cell_type": "code",
   "execution_count": 170,
   "id": "68a58079",
   "metadata": {},
   "outputs": [
    {
     "data": {
      "text/plain": [
       "<AxesSubplot:xlabel='col', ylabel='count'>"
      ]
     },
     "execution_count": 170,
     "metadata": {},
     "output_type": "execute_result"
    },
    {
     "data": {
      "image/png": "[encoded data removed]",
      "text/plain": [
       "<Figure size 640x480 with 1 Axes>"
      ]
     },
     "metadata": {},
     "output_type": "display_data"
    }
   ],
   "source": [
    "sns.countplot(x='col', data=caracteristiques)"
   ]
  },
  {
   "cell_type": "markdown",
   "id": "7fa06887",
   "metadata": {},
   "source": [
    "# Conditions d’éclairage dans lesquelles l'accident s'est produit :"
   ]
  },
  {
   "cell_type": "raw",
   "id": "8b2be2e2",
   "metadata": {},
   "source": [
    "lum\n",
    "\n",
    "Lumière :\n",
    "1 – Plein jour\n",
    "2 – Crépuscule ou aube\n",
    "3 – Nuit sans éclairage public\n",
    "4 – Nuit avec éclairage public non allumé\n",
    "5 – Nuit avec éclairage public allumé"
   ]
  },
  {
   "cell_type": "code",
   "execution_count": 171,
   "id": "40e54bd4",
   "metadata": {},
   "outputs": [
    {
     "data": {
      "text/plain": [
       "<AxesSubplot:xlabel='lum', ylabel='count'>"
      ]
     },
     "execution_count": 171,
     "metadata": {},
     "output_type": "execute_result"
    },
    {
     "data": {
      "image/png": "[encoded data removed]",
      "text/plain": [
       "<Figure size 640x480 with 1 Axes>"
      ]
     },
     "metadata": {},
     "output_type": "display_data"
    }
   ],
   "source": [
    "sns.countplot(x='lum', data=caracteristiques)"
   ]
  },
  {
   "cell_type": "code",
   "execution_count": 172,
   "id": "c6ec7794",
   "metadata": {},
   "outputs": [
    {
     "data": {
      "text/plain": [
       "<AxesSubplot:xlabel='surf', ylabel='count'>"
      ]
     },
     "execution_count": 172,
     "metadata": {},
     "output_type": "execute_result"
    },
    {
     "data": {
      "image/png": "[encoded data removed]",
      "text/plain": [
       "<Figure size 640x480 with 1 Axes>"
      ]
     },
     "metadata": {},
     "output_type": "display_data"
    }
   ],
   "source": [
    "sns.countplot(x='surf', data=lieux)"
   ]
  },
  {
   "cell_type": "code",
   "execution_count": 173,
   "id": "7fd1c437",
   "metadata": {},
   "outputs": [
    {
     "data": {
      "text/plain": [
       "<AxesSubplot:xlabel='infra', ylabel='count'>"
      ]
     },
     "execution_count": 173,
     "metadata": {},
     "output_type": "execute_result"
    },
    {
     "data": {
      "image/png": "[encoded data removed]",
      "text/plain": [
       "<Figure size 640x480 with 1 Axes>"
      ]
     },
     "metadata": {},
     "output_type": "display_data"
    }
   ],
   "source": [
    "sns.countplot(x='infra', data=lieux) #pas preendre en compte le 0"
   ]
  },
  {
   "cell_type": "code",
   "execution_count": 174,
   "id": "528bd79a",
   "metadata": {},
   "outputs": [
    {
     "name": "stdout",
     "output_type": "stream",
     "text": [
      "            Num_Acc id_vehicule num_veh  place  catu  grav  sexe  an_nais  \\\n",
      "0      202100000001     201 764     B01    1.0   1.0   3.0   1.0   2000.0   \n",
      "1      202100000001     201 765     A01    1.0   1.0   1.0   1.0   1978.0   \n",
      "2      202100000002     201 762     A01    1.0   1.0   4.0   1.0   1983.0   \n",
      "3      202100000002     201 763     B01    1.0   1.0   3.0   1.0   1993.0   \n",
      "4      202100000003     201 761     A01    1.0   1.0   1.0   1.0   1995.0   \n",
      "...             ...         ...     ...    ...   ...   ...   ...      ...   \n",
      "56513  202100056514         NaN     NaN    NaN   NaN   NaN   NaN      NaN   \n",
      "56514  202100056515         NaN     NaN    NaN   NaN   NaN   NaN      NaN   \n",
      "56515  202100056516         NaN     NaN    NaN   NaN   NaN   NaN      NaN   \n",
      "56516  202100056517         NaN     NaN    NaN   NaN   NaN   NaN      NaN   \n",
      "56517  202100056518         NaN     NaN    NaN   NaN   NaN   NaN      NaN   \n",
      "\n",
      "       trajet  secu1  ...  lum  dep    com  agg  int  atm  col  \\\n",
      "0         1.0    0.0  ...  NaN  NaN    NaN  NaN  NaN  NaN  NaN   \n",
      "1         1.0    1.0  ...  NaN  NaN    NaN  NaN  NaN  NaN  NaN   \n",
      "2         0.0    1.0  ...  NaN  NaN    NaN  NaN  NaN  NaN  NaN   \n",
      "3         0.0    1.0  ...  NaN  NaN    NaN  NaN  NaN  NaN  NaN   \n",
      "4         1.0    1.0  ...  NaN  NaN    NaN  NaN  NaN  NaN  NaN   \n",
      "...       ...    ...  ...  ...  ...    ...  ...  ...  ...  ...   \n",
      "56513     NaN    NaN  ...  3.0   33  33021  1.0  1.0  5.0  6.0   \n",
      "56514     NaN    NaN  ...  1.0   38  38405  1.0  1.0  2.0  6.0   \n",
      "56515     NaN    NaN  ...  3.0   26  26064  1.0  1.0  2.0  1.0   \n",
      "56516     NaN    NaN  ...  1.0   33  33003  1.0  2.0  1.0  6.0   \n",
      "56517     NaN    NaN  ...  3.0   78  78423  1.0  1.0  3.0  1.0   \n",
      "\n",
      "                             adr            lat            long  \n",
      "0                            NaN            NaN             NaN  \n",
      "1                            NaN            NaN             NaN  \n",
      "2                            NaN            NaN             NaN  \n",
      "3                            NaN            NaN             NaN  \n",
      "4                            NaN            NaN             NaN  \n",
      "...                          ...            ...             ...  \n",
      "56513                        NaN  44,5266190000   -0,1955440000  \n",
      "56514                       D520  45,3802910000    5,7049140000  \n",
      "56515   Route départementale 538  44,9112100000    5,0196360000  \n",
      "56516  Voie rapide Bassens Ambes  44,9542747363   -0,5179211363  \n",
      "56517             VOLTA (AVENUE)  48,7966700000    2,0505000000  \n",
      "\n",
      "[339504 rows x 55 columns]\n"
     ]
    }
   ],
   "source": [
    "df_accident = pd.concat([usagers,vehicules,lieux,caracteristiques ])\n",
    "ignore_index=True\n",
    "print(df_accident)"
   ]
  },
  {
   "cell_type": "code",
   "execution_count": 175,
   "id": "2b53d421",
   "metadata": {},
   "outputs": [
    {
     "data": {
      "text/html": [
       "<div>\n",
       "<style scoped>\n",
       "    .dataframe tbody tr th:only-of-type {\n",
       "        vertical-align: middle;\n",
       "    }\n",
       "\n",
       "    .dataframe tbody tr th {\n",
       "        vertical-align: top;\n",
       "    }\n",
       "\n",
       "    .dataframe thead th {\n",
       "        text-align: right;\n",
       "    }\n",
       "</style>\n",
       "<table border=\"1\" class=\"dataframe\">\n",
       "  <thead>\n",
       "    <tr style=\"text-align: right;\">\n",
       "      <th></th>\n",
       "      <th>Num_Acc</th>\n",
       "      <th>id_vehicule</th>\n",
       "      <th>num_veh</th>\n",
       "      <th>place</th>\n",
       "      <th>catu</th>\n",
       "      <th>grav</th>\n",
       "      <th>sexe</th>\n",
       "      <th>an_nais</th>\n",
       "      <th>trajet</th>\n",
       "      <th>secu1</th>\n",
       "      <th>...</th>\n",
       "      <th>lum</th>\n",
       "      <th>dep</th>\n",
       "      <th>com</th>\n",
       "      <th>agg</th>\n",
       "      <th>int</th>\n",
       "      <th>atm</th>\n",
       "      <th>col</th>\n",
       "      <th>adr</th>\n",
       "      <th>lat</th>\n",
       "      <th>long</th>\n",
       "    </tr>\n",
       "  </thead>\n",
       "  <tbody>\n",
       "    <tr>\n",
       "      <th>0</th>\n",
       "      <td>202100000001</td>\n",
       "      <td>201 764</td>\n",
       "      <td>B01</td>\n",
       "      <td>1.0</td>\n",
       "      <td>1.0</td>\n",
       "      <td>3.0</td>\n",
       "      <td>1.0</td>\n",
       "      <td>2000.0</td>\n",
       "      <td>1.0</td>\n",
       "      <td>0.0</td>\n",
       "      <td>...</td>\n",
       "      <td>NaN</td>\n",
       "      <td>NaN</td>\n",
       "      <td>NaN</td>\n",
       "      <td>NaN</td>\n",
       "      <td>NaN</td>\n",
       "      <td>NaN</td>\n",
       "      <td>NaN</td>\n",
       "      <td>NaN</td>\n",
       "      <td>NaN</td>\n",
       "      <td>NaN</td>\n",
       "    </tr>\n",
       "    <tr>\n",
       "      <th>1</th>\n",
       "      <td>202100000001</td>\n",
       "      <td>201 765</td>\n",
       "      <td>A01</td>\n",
       "      <td>1.0</td>\n",
       "      <td>1.0</td>\n",
       "      <td>1.0</td>\n",
       "      <td>1.0</td>\n",
       "      <td>1978.0</td>\n",
       "      <td>1.0</td>\n",
       "      <td>1.0</td>\n",
       "      <td>...</td>\n",
       "      <td>NaN</td>\n",
       "      <td>NaN</td>\n",
       "      <td>NaN</td>\n",
       "      <td>NaN</td>\n",
       "      <td>NaN</td>\n",
       "      <td>NaN</td>\n",
       "      <td>NaN</td>\n",
       "      <td>NaN</td>\n",
       "      <td>NaN</td>\n",
       "      <td>NaN</td>\n",
       "    </tr>\n",
       "    <tr>\n",
       "      <th>2</th>\n",
       "      <td>202100000002</td>\n",
       "      <td>201 762</td>\n",
       "      <td>A01</td>\n",
       "      <td>1.0</td>\n",
       "      <td>1.0</td>\n",
       "      <td>4.0</td>\n",
       "      <td>1.0</td>\n",
       "      <td>1983.0</td>\n",
       "      <td>0.0</td>\n",
       "      <td>1.0</td>\n",
       "      <td>...</td>\n",
       "      <td>NaN</td>\n",
       "      <td>NaN</td>\n",
       "      <td>NaN</td>\n",
       "      <td>NaN</td>\n",
       "      <td>NaN</td>\n",
       "      <td>NaN</td>\n",
       "      <td>NaN</td>\n",
       "      <td>NaN</td>\n",
       "      <td>NaN</td>\n",
       "      <td>NaN</td>\n",
       "    </tr>\n",
       "    <tr>\n",
       "      <th>3</th>\n",
       "      <td>202100000002</td>\n",
       "      <td>201 763</td>\n",
       "      <td>B01</td>\n",
       "      <td>1.0</td>\n",
       "      <td>1.0</td>\n",
       "      <td>3.0</td>\n",
       "      <td>1.0</td>\n",
       "      <td>1993.0</td>\n",
       "      <td>0.0</td>\n",
       "      <td>1.0</td>\n",
       "      <td>...</td>\n",
       "      <td>NaN</td>\n",
       "      <td>NaN</td>\n",
       "      <td>NaN</td>\n",
       "      <td>NaN</td>\n",
       "      <td>NaN</td>\n",
       "      <td>NaN</td>\n",
       "      <td>NaN</td>\n",
       "      <td>NaN</td>\n",
       "      <td>NaN</td>\n",
       "      <td>NaN</td>\n",
       "    </tr>\n",
       "    <tr>\n",
       "      <th>4</th>\n",
       "      <td>202100000003</td>\n",
       "      <td>201 761</td>\n",
       "      <td>A01</td>\n",
       "      <td>1.0</td>\n",
       "      <td>1.0</td>\n",
       "      <td>1.0</td>\n",
       "      <td>1.0</td>\n",
       "      <td>1995.0</td>\n",
       "      <td>1.0</td>\n",
       "      <td>1.0</td>\n",
       "      <td>...</td>\n",
       "      <td>NaN</td>\n",
       "      <td>NaN</td>\n",
       "      <td>NaN</td>\n",
       "      <td>NaN</td>\n",
       "      <td>NaN</td>\n",
       "      <td>NaN</td>\n",
       "      <td>NaN</td>\n",
       "      <td>NaN</td>\n",
       "      <td>NaN</td>\n",
       "      <td>NaN</td>\n",
       "    </tr>\n",
       "    <tr>\n",
       "      <th>...</th>\n",
       "      <td>...</td>\n",
       "      <td>...</td>\n",
       "      <td>...</td>\n",
       "      <td>...</td>\n",
       "      <td>...</td>\n",
       "      <td>...</td>\n",
       "      <td>...</td>\n",
       "      <td>...</td>\n",
       "      <td>...</td>\n",
       "      <td>...</td>\n",
       "      <td>...</td>\n",
       "      <td>...</td>\n",
       "      <td>...</td>\n",
       "      <td>...</td>\n",
       "      <td>...</td>\n",
       "      <td>...</td>\n",
       "      <td>...</td>\n",
       "      <td>...</td>\n",
       "      <td>...</td>\n",
       "      <td>...</td>\n",
       "      <td>...</td>\n",
       "    </tr>\n",
       "    <tr>\n",
       "      <th>56513</th>\n",
       "      <td>202100056514</td>\n",
       "      <td>NaN</td>\n",
       "      <td>NaN</td>\n",
       "      <td>NaN</td>\n",
       "      <td>NaN</td>\n",
       "      <td>NaN</td>\n",
       "      <td>NaN</td>\n",
       "      <td>NaN</td>\n",
       "      <td>NaN</td>\n",
       "      <td>NaN</td>\n",
       "      <td>...</td>\n",
       "      <td>3.0</td>\n",
       "      <td>33</td>\n",
       "      <td>33021</td>\n",
       "      <td>1.0</td>\n",
       "      <td>1.0</td>\n",
       "      <td>5.0</td>\n",
       "      <td>6.0</td>\n",
       "      <td>NaN</td>\n",
       "      <td>44,5266190000</td>\n",
       "      <td>-0,1955440000</td>\n",
       "    </tr>\n",
       "    <tr>\n",
       "      <th>56514</th>\n",
       "      <td>202100056515</td>\n",
       "      <td>NaN</td>\n",
       "      <td>NaN</td>\n",
       "      <td>NaN</td>\n",
       "      <td>NaN</td>\n",
       "      <td>NaN</td>\n",
       "      <td>NaN</td>\n",
       "      <td>NaN</td>\n",
       "      <td>NaN</td>\n",
       "      <td>NaN</td>\n",
       "      <td>...</td>\n",
       "      <td>1.0</td>\n",
       "      <td>38</td>\n",
       "      <td>38405</td>\n",
       "      <td>1.0</td>\n",
       "      <td>1.0</td>\n",
       "      <td>2.0</td>\n",
       "      <td>6.0</td>\n",
       "      <td>D520</td>\n",
       "      <td>45,3802910000</td>\n",
       "      <td>5,7049140000</td>\n",
       "    </tr>\n",
       "    <tr>\n",
       "      <th>56515</th>\n",
       "      <td>202100056516</td>\n",
       "      <td>NaN</td>\n",
       "      <td>NaN</td>\n",
       "      <td>NaN</td>\n",
       "      <td>NaN</td>\n",
       "      <td>NaN</td>\n",
       "      <td>NaN</td>\n",
       "      <td>NaN</td>\n",
       "      <td>NaN</td>\n",
       "      <td>NaN</td>\n",
       "      <td>...</td>\n",
       "      <td>3.0</td>\n",
       "      <td>26</td>\n",
       "      <td>26064</td>\n",
       "      <td>1.0</td>\n",
       "      <td>1.0</td>\n",
       "      <td>2.0</td>\n",
       "      <td>1.0</td>\n",
       "      <td>Route départementale 538</td>\n",
       "      <td>44,9112100000</td>\n",
       "      <td>5,0196360000</td>\n",
       "    </tr>\n",
       "    <tr>\n",
       "      <th>56516</th>\n",
       "      <td>202100056517</td>\n",
       "      <td>NaN</td>\n",
       "      <td>NaN</td>\n",
       "      <td>NaN</td>\n",
       "      <td>NaN</td>\n",
       "      <td>NaN</td>\n",
       "      <td>NaN</td>\n",
       "      <td>NaN</td>\n",
       "      <td>NaN</td>\n",
       "      <td>NaN</td>\n",
       "      <td>...</td>\n",
       "      <td>1.0</td>\n",
       "      <td>33</td>\n",
       "      <td>33003</td>\n",
       "      <td>1.0</td>\n",
       "      <td>2.0</td>\n",
       "      <td>1.0</td>\n",
       "      <td>6.0</td>\n",
       "      <td>Voie rapide Bassens Ambes</td>\n",
       "      <td>44,9542747363</td>\n",
       "      <td>-0,5179211363</td>\n",
       "    </tr>\n",
       "    <tr>\n",
       "      <th>56517</th>\n",
       "      <td>202100056518</td>\n",
       "      <td>NaN</td>\n",
       "      <td>NaN</td>\n",
       "      <td>NaN</td>\n",
       "      <td>NaN</td>\n",
       "      <td>NaN</td>\n",
       "      <td>NaN</td>\n",
       "      <td>NaN</td>\n",
       "      <td>NaN</td>\n",
       "      <td>NaN</td>\n",
       "      <td>...</td>\n",
       "      <td>3.0</td>\n",
       "      <td>78</td>\n",
       "      <td>78423</td>\n",
       "      <td>1.0</td>\n",
       "      <td>1.0</td>\n",
       "      <td>3.0</td>\n",
       "      <td>1.0</td>\n",
       "      <td>VOLTA (AVENUE)</td>\n",
       "      <td>48,7966700000</td>\n",
       "      <td>2,0505000000</td>\n",
       "    </tr>\n",
       "  </tbody>\n",
       "</table>\n",
       "<p>339504 rows × 55 columns</p>\n",
       "</div>"
      ],
      "text/plain": [
       "            Num_Acc id_vehicule num_veh  place  catu  grav  sexe  an_nais  \\\n",
       "0      202100000001     201 764     B01    1.0   1.0   3.0   1.0   2000.0   \n",
       "1      202100000001     201 765     A01    1.0   1.0   1.0   1.0   1978.0   \n",
       "2      202100000002     201 762     A01    1.0   1.0   4.0   1.0   1983.0   \n",
       "3      202100000002     201 763     B01    1.0   1.0   3.0   1.0   1993.0   \n",
       "4      202100000003     201 761     A01    1.0   1.0   1.0   1.0   1995.0   \n",
       "...             ...         ...     ...    ...   ...   ...   ...      ...   \n",
       "56513  202100056514         NaN     NaN    NaN   NaN   NaN   NaN      NaN   \n",
       "56514  202100056515         NaN     NaN    NaN   NaN   NaN   NaN      NaN   \n",
       "56515  202100056516         NaN     NaN    NaN   NaN   NaN   NaN      NaN   \n",
       "56516  202100056517         NaN     NaN    NaN   NaN   NaN   NaN      NaN   \n",
       "56517  202100056518         NaN     NaN    NaN   NaN   NaN   NaN      NaN   \n",
       "\n",
       "       trajet  secu1  ...  lum  dep    com  agg  int  atm  col  \\\n",
       "0         1.0    0.0  ...  NaN  NaN    NaN  NaN  NaN  NaN  NaN   \n",
       "1         1.0    1.0  ...  NaN  NaN    NaN  NaN  NaN  NaN  NaN   \n",
       "2         0.0    1.0  ...  NaN  NaN    NaN  NaN  NaN  NaN  NaN   \n",
       "3         0.0    1.0  ...  NaN  NaN    NaN  NaN  NaN  NaN  NaN   \n",
       "4         1.0    1.0  ...  NaN  NaN    NaN  NaN  NaN  NaN  NaN   \n",
       "...       ...    ...  ...  ...  ...    ...  ...  ...  ...  ...   \n",
       "56513     NaN    NaN  ...  3.0   33  33021  1.0  1.0  5.0  6.0   \n",
       "56514     NaN    NaN  ...  1.0   38  38405  1.0  1.0  2.0  6.0   \n",
       "56515     NaN    NaN  ...  3.0   26  26064  1.0  1.0  2.0  1.0   \n",
       "56516     NaN    NaN  ...  1.0   33  33003  1.0  2.0  1.0  6.0   \n",
       "56517     NaN    NaN  ...  3.0   78  78423  1.0  1.0  3.0  1.0   \n",
       "\n",
       "                             adr            lat            long  \n",
       "0                            NaN            NaN             NaN  \n",
       "1                            NaN            NaN             NaN  \n",
       "2                            NaN            NaN             NaN  \n",
       "3                            NaN            NaN             NaN  \n",
       "4                            NaN            NaN             NaN  \n",
       "...                          ...            ...             ...  \n",
       "56513                        NaN  44,5266190000   -0,1955440000  \n",
       "56514                       D520  45,3802910000    5,7049140000  \n",
       "56515   Route départementale 538  44,9112100000    5,0196360000  \n",
       "56516  Voie rapide Bassens Ambes  44,9542747363   -0,5179211363  \n",
       "56517             VOLTA (AVENUE)  48,7966700000    2,0505000000  \n",
       "\n",
       "[339504 rows x 55 columns]"
      ]
     },
     "execution_count": 175,
     "metadata": {},
     "output_type": "execute_result"
    }
   ],
   "source": [
    "df_accident"
   ]
  },
  {
   "cell_type": "code",
   "execution_count": 176,
   "id": "ff1a9dcc",
   "metadata": {},
   "outputs": [
    {
     "data": {
      "text/plain": [
       "<AxesSubplot:xlabel='mois', ylabel='count'>"
      ]
     },
     "execution_count": 176,
     "metadata": {},
     "output_type": "execute_result"
    },
    {
     "data": {
      "image/png": "[encoded data removed]",
      "text/plain": [
       "<Figure size 640x480 with 1 Axes>"
      ]
     },
     "metadata": {},
     "output_type": "display_data"
    }
   ],
   "source": [
    "sns.countplot(x='mois', data=df_accident)"
   ]
  },
  {
   "cell_type": "markdown",
   "id": "548925b5",
   "metadata": {},
   "source": [
    "# Quel catégorie de route il y a des plus des accidents "
   ]
  },
  {
   "cell_type": "raw",
   "id": "34f18553",
   "metadata": {},
   "source": [
    "catr\n",
    "\n",
    "Catégorie de route :\n",
    "1 – Autoroute\n",
    "2 – Route nationale\n",
    "3 – Route Départementale\n",
    "4 – Voie Communales\n",
    "5 – Hors réseau public\n",
    "6 – Parc de stationnement ouvert à la circulation publique\n",
    "7 – Routes de métropole urbaine\n",
    "9 – autre"
   ]
  },
  {
   "cell_type": "code",
   "execution_count": 177,
   "id": "a963a4f5",
   "metadata": {},
   "outputs": [
    {
     "data": {
      "text/plain": [
       "<AxesSubplot:xlabel='catr', ylabel='count'>"
      ]
     },
     "execution_count": 177,
     "metadata": {},
     "output_type": "execute_result"
    },
    {
     "data": {
      "image/png": "[encoded data removed]",
      "text/plain": [
       "<Figure size 640x480 with 1 Axes>"
      ]
     },
     "metadata": {},
     "output_type": "display_data"
    }
   ],
   "source": [
    "sns.countplot(x='catr', data=lieux)"
   ]
  },
  {
   "cell_type": "markdown",
   "id": "43b83c14",
   "metadata": {},
   "source": [
    "# Quel Catégorie du véhicule est plus empliqué dans l'accidnet routiere"
   ]
  },
  {
   "cell_type": "raw",
   "id": "3cd76561",
   "metadata": {},
   "source": [
    "catv\n",
    "\n",
    "Catégorie du véhicule :\n",
    "00 – Indéterminable\n",
    "01 – Bicyclette\n",
    "02 – Cyclomoteur <50cm3\n",
    "03 – Voiturette (Quadricycle à moteur carrossé) (anciennement \"voiturette ou tricycle à moteur\")\n",
    "04 – Référence inutilisée depuis 2006 (scooter immatriculé)\n",
    "05 – Référence inutilisée depuis 2006 (motocyclette)\n",
    "06 – Référence inutilisée depuis 2006 (side-car)\n",
    "07 – VL seul\n",
    "08 – Référence inutilisée depuis 2006 (VL + caravane)\n",
    "09 – Référence inutilisée depuis 2006 (VL + remorque)\n",
    "10 – VU seul 1,5T <= PTAC <= 3,5T avec ou sans remorque (anciennement VU seul 1,5T <= PTAC\n",
    "<= 3,5T)\n",
    "11 – Référence inutilisée depuis 2006 (VU (10) + caravane)\n",
    "12 – Référence inutilisée depuis 2006 (VU (10) + remorque)\n",
    "13 – PL seul 3,5T <PTCA <= 7,5T\n",
    "14 – PL seul > 7,5T\n",
    "15 – PL > 3,5T + remorque\n",
    "16 – Tracteur routier seul\n",
    "17 – Tracteur routier + semi-remorque\n",
    "18 – Référence inutilisée depuis 2006 (transport en commun)\n",
    "19 – Référence inutilisée depuis 2006 (tramway)\n",
    "20 – Engin spécial\n",
    "21 – Tracteur agricole\n",
    "30 – Scooter < 50 cm3\n",
    "31 – Motocyclette > 50 cm3 et <= 125 cm3\n",
    "32 – Scooter > 50 cm3 et <= 125 cm3\n",
    "33 – Motocyclette > 125 cm3\n",
    "34 – Scooter > 125 cm3\n",
    "35 – Quad léger <= 50 cm3 (Quadricycle à moteur non carrossé)\n",
    "36 – Quad lourd > 50 cm3 (Quadricycle à moteur non carrossé)\n",
    "37 – Autobus\n",
    "38 – Autocar\n",
    "39 – Train\n",
    "40 – Tramway\n",
    "41 – 3RM <= 50 cm3\n",
    "42 – 3RM > 50 cm3 <= 125 cm3\n",
    "43 – 3RM > 125 cm3\n",
    "50 – EDP à moteur\n",
    "60 – EDP sans moteur\n",
    "80 – VAE\n",
    "99 – Autre véhicule"
   ]
  },
  {
   "cell_type": "code",
   "execution_count": 178,
   "id": "0e1c832e",
   "metadata": {},
   "outputs": [
    {
     "data": {
      "text/plain": [
       "<AxesSubplot:xlabel='catv', ylabel='count'>"
      ]
     },
     "execution_count": 178,
     "metadata": {},
     "output_type": "execute_result"
    },
    {
     "data": {
      "image/png": "[encoded data removed]",
      "text/plain": [
       "<Figure size 640x480 with 1 Axes>"
      ]
     },
     "metadata": {},
     "output_type": "display_data"
    }
   ],
   "source": [
    "sns.countplot(x='catv', data=vehicules)"
   ]
  },
  {
   "cell_type": "code",
   "execution_count": 179,
   "id": "0ce80482",
   "metadata": {},
   "outputs": [
    {
     "data": {
      "text/plain": [
       "['01', '07', '10', '05', '33']"
      ]
     },
     "execution_count": 179,
     "metadata": {},
     "output_type": "execute_result"
    }
   ],
   "source": [
    "selected_catv = ['01', '07', '10', '05', '33']\n",
    "vehicules_selected = vehicules.loc[vehicules['catv'].isin(selected_catv)]\n",
    "selected_catv"
   ]
  },
  {
   "cell_type": "code",
   "execution_count": 180,
   "id": "ae925bb2",
   "metadata": {},
   "outputs": [
    {
     "ename": "ValueError",
     "evalue": "min() arg is an empty sequence",
     "output_type": "error",
     "traceback": [
      "\u001b[1;31m---------------------------------------------------------------------------\u001b[0m",
      "\u001b[1;31mValueError\u001b[0m                                Traceback (most recent call last)",
      "\u001b[1;32m~\\AppData\\Local\\Temp\\ipykernel_8840\\1228931143.py\u001b[0m in \u001b[0;36m<module>\u001b[1;34m\u001b[0m\n\u001b[1;32m----> 1\u001b[1;33m \u001b[0msns\u001b[0m\u001b[1;33m.\u001b[0m\u001b[0mcountplot\u001b[0m\u001b[1;33m(\u001b[0m\u001b[0mx\u001b[0m\u001b[1;33m=\u001b[0m\u001b[1;34m'catv'\u001b[0m\u001b[1;33m,\u001b[0m \u001b[0mdata\u001b[0m\u001b[1;33m=\u001b[0m\u001b[0mvehicules_selected\u001b[0m\u001b[1;33m)\u001b[0m\u001b[1;33m\u001b[0m\u001b[1;33m\u001b[0m\u001b[0m\n\u001b[0m",
      "\u001b[1;32m~\\anaconda3\\lib\\site-packages\\seaborn\\_decorators.py\u001b[0m in \u001b[0;36minner_f\u001b[1;34m(*args, **kwargs)\u001b[0m\n\u001b[0;32m     44\u001b[0m             )\n\u001b[0;32m     45\u001b[0m         \u001b[0mkwargs\u001b[0m\u001b[1;33m.\u001b[0m\u001b[0mupdate\u001b[0m\u001b[1;33m(\u001b[0m\u001b[1;33m{\u001b[0m\u001b[0mk\u001b[0m\u001b[1;33m:\u001b[0m \u001b[0marg\u001b[0m \u001b[1;32mfor\u001b[0m \u001b[0mk\u001b[0m\u001b[1;33m,\u001b[0m \u001b[0marg\u001b[0m \u001b[1;32min\u001b[0m \u001b[0mzip\u001b[0m\u001b[1;33m(\u001b[0m\u001b[0msig\u001b[0m\u001b[1;33m.\u001b[0m\u001b[0mparameters\u001b[0m\u001b[1;33m,\u001b[0m \u001b[0margs\u001b[0m\u001b[1;33m)\u001b[0m\u001b[1;33m}\u001b[0m\u001b[1;33m)\u001b[0m\u001b[1;33m\u001b[0m\u001b[1;33m\u001b[0m\u001b[0m\n\u001b[1;32m---> 46\u001b[1;33m         \u001b[1;32mreturn\u001b[0m \u001b[0mf\u001b[0m\u001b[1;33m(\u001b[0m\u001b[1;33m**\u001b[0m\u001b[0mkwargs\u001b[0m\u001b[1;33m)\u001b[0m\u001b[1;33m\u001b[0m\u001b[1;33m\u001b[0m\u001b[0m\n\u001b[0m\u001b[0;32m     47\u001b[0m     \u001b[1;32mreturn\u001b[0m \u001b[0minner_f\u001b[0m\u001b[1;33m\u001b[0m\u001b[1;33m\u001b[0m\u001b[0m\n\u001b[0;32m     48\u001b[0m \u001b[1;33m\u001b[0m\u001b[0m\n",
      "\u001b[1;32m~\\anaconda3\\lib\\site-packages\\seaborn\\categorical.py\u001b[0m in \u001b[0;36mcountplot\u001b[1;34m(x, y, hue, data, order, hue_order, orient, color, palette, saturation, dodge, ax, **kwargs)\u001b[0m\n\u001b[0;32m   3596\u001b[0m         \u001b[1;32mraise\u001b[0m \u001b[0mValueError\u001b[0m\u001b[1;33m(\u001b[0m\u001b[1;34m\"Cannot pass values for both `x` and `y`\"\u001b[0m\u001b[1;33m)\u001b[0m\u001b[1;33m\u001b[0m\u001b[1;33m\u001b[0m\u001b[0m\n\u001b[0;32m   3597\u001b[0m \u001b[1;33m\u001b[0m\u001b[0m\n\u001b[1;32m-> 3598\u001b[1;33m     plotter = _CountPlotter(\n\u001b[0m\u001b[0;32m   3599\u001b[0m         \u001b[0mx\u001b[0m\u001b[1;33m,\u001b[0m \u001b[0my\u001b[0m\u001b[1;33m,\u001b[0m \u001b[0mhue\u001b[0m\u001b[1;33m,\u001b[0m \u001b[0mdata\u001b[0m\u001b[1;33m,\u001b[0m \u001b[0morder\u001b[0m\u001b[1;33m,\u001b[0m \u001b[0mhue_order\u001b[0m\u001b[1;33m,\u001b[0m\u001b[1;33m\u001b[0m\u001b[1;33m\u001b[0m\u001b[0m\n\u001b[0;32m   3600\u001b[0m         \u001b[0mestimator\u001b[0m\u001b[1;33m,\u001b[0m \u001b[0mci\u001b[0m\u001b[1;33m,\u001b[0m \u001b[0mn_boot\u001b[0m\u001b[1;33m,\u001b[0m \u001b[0munits\u001b[0m\u001b[1;33m,\u001b[0m \u001b[0mseed\u001b[0m\u001b[1;33m,\u001b[0m\u001b[1;33m\u001b[0m\u001b[1;33m\u001b[0m\u001b[0m\n",
      "\u001b[1;32m~\\anaconda3\\lib\\site-packages\\seaborn\\categorical.py\u001b[0m in \u001b[0;36m__init__\u001b[1;34m(self, x, y, hue, data, order, hue_order, estimator, ci, n_boot, units, seed, orient, color, palette, saturation, errcolor, errwidth, capsize, dodge)\u001b[0m\n\u001b[0;32m   1584\u001b[0m         self.establish_variables(x, y, hue, data, orient,\n\u001b[0;32m   1585\u001b[0m                                  order, hue_order, units)\n\u001b[1;32m-> 1586\u001b[1;33m         \u001b[0mself\u001b[0m\u001b[1;33m.\u001b[0m\u001b[0mestablish_colors\u001b[0m\u001b[1;33m(\u001b[0m\u001b[0mcolor\u001b[0m\u001b[1;33m,\u001b[0m \u001b[0mpalette\u001b[0m\u001b[1;33m,\u001b[0m \u001b[0msaturation\u001b[0m\u001b[1;33m)\u001b[0m\u001b[1;33m\u001b[0m\u001b[1;33m\u001b[0m\u001b[0m\n\u001b[0m\u001b[0;32m   1587\u001b[0m         \u001b[0mself\u001b[0m\u001b[1;33m.\u001b[0m\u001b[0mestimate_statistic\u001b[0m\u001b[1;33m(\u001b[0m\u001b[0mestimator\u001b[0m\u001b[1;33m,\u001b[0m \u001b[0mci\u001b[0m\u001b[1;33m,\u001b[0m \u001b[0mn_boot\u001b[0m\u001b[1;33m,\u001b[0m \u001b[0mseed\u001b[0m\u001b[1;33m)\u001b[0m\u001b[1;33m\u001b[0m\u001b[1;33m\u001b[0m\u001b[0m\n\u001b[0;32m   1588\u001b[0m \u001b[1;33m\u001b[0m\u001b[0m\n",
      "\u001b[1;32m~\\anaconda3\\lib\\site-packages\\seaborn\\categorical.py\u001b[0m in \u001b[0;36mestablish_colors\u001b[1;34m(self, color, palette, saturation)\u001b[0m\n\u001b[0;32m    317\u001b[0m         \u001b[1;31m# Determine the gray color to use for the lines framing the plot\u001b[0m\u001b[1;33m\u001b[0m\u001b[1;33m\u001b[0m\u001b[0m\n\u001b[0;32m    318\u001b[0m         \u001b[0mlight_vals\u001b[0m \u001b[1;33m=\u001b[0m \u001b[1;33m[\u001b[0m\u001b[0mcolorsys\u001b[0m\u001b[1;33m.\u001b[0m\u001b[0mrgb_to_hls\u001b[0m\u001b[1;33m(\u001b[0m\u001b[1;33m*\u001b[0m\u001b[0mc\u001b[0m\u001b[1;33m)\u001b[0m\u001b[1;33m[\u001b[0m\u001b[1;36m1\u001b[0m\u001b[1;33m]\u001b[0m \u001b[1;32mfor\u001b[0m \u001b[0mc\u001b[0m \u001b[1;32min\u001b[0m \u001b[0mrgb_colors\u001b[0m\u001b[1;33m]\u001b[0m\u001b[1;33m\u001b[0m\u001b[1;33m\u001b[0m\u001b[0m\n\u001b[1;32m--> 319\u001b[1;33m         \u001b[0mlum\u001b[0m \u001b[1;33m=\u001b[0m \u001b[0mmin\u001b[0m\u001b[1;33m(\u001b[0m\u001b[0mlight_vals\u001b[0m\u001b[1;33m)\u001b[0m \u001b[1;33m*\u001b[0m \u001b[1;36m.6\u001b[0m\u001b[1;33m\u001b[0m\u001b[1;33m\u001b[0m\u001b[0m\n\u001b[0m\u001b[0;32m    320\u001b[0m         \u001b[0mgray\u001b[0m \u001b[1;33m=\u001b[0m \u001b[0mmpl\u001b[0m\u001b[1;33m.\u001b[0m\u001b[0mcolors\u001b[0m\u001b[1;33m.\u001b[0m\u001b[0mrgb2hex\u001b[0m\u001b[1;33m(\u001b[0m\u001b[1;33m(\u001b[0m\u001b[0mlum\u001b[0m\u001b[1;33m,\u001b[0m \u001b[0mlum\u001b[0m\u001b[1;33m,\u001b[0m \u001b[0mlum\u001b[0m\u001b[1;33m)\u001b[0m\u001b[1;33m)\u001b[0m\u001b[1;33m\u001b[0m\u001b[1;33m\u001b[0m\u001b[0m\n\u001b[0;32m    321\u001b[0m \u001b[1;33m\u001b[0m\u001b[0m\n",
      "\u001b[1;31mValueError\u001b[0m: min() arg is an empty sequence"
     ]
    }
   ],
   "source": [
    "sns.countplot(x='catv', data=vehicules_selected)"
   ]
  },
  {
   "cell_type": "code",
   "execution_count": 181,
   "id": "14b0f916",
   "metadata": {},
   "outputs": [
    {
     "ename": "SyntaxError",
     "evalue": "invalid syntax (825889116.py, line 1)",
     "output_type": "error",
     "traceback": [
      "\u001b[1;36m  File \u001b[1;32m\"C:\\Users\\arnoa\\AppData\\Local\\Temp\\ipykernel_8840\\825889116.py\"\u001b[1;36m, line \u001b[1;32m1\u001b[0m\n\u001b[1;33m    sns.countplot(x='catv['1', '7', '10', '5', '33']', data=vehicules)\u001b[0m\n\u001b[1;37m                           ^\u001b[0m\n\u001b[1;31mSyntaxError\u001b[0m\u001b[1;31m:\u001b[0m invalid syntax\n"
     ]
    }
   ],
   "source": [
    "sns.countplot(x='catv['1', '7', '10', '5', '33']', data=vehicules)"
   ]
  },
  {
   "cell_type": "code",
   "execution_count": 182,
   "id": "39ecd638",
   "metadata": {},
   "outputs": [
    {
     "data": {
      "image/png": "[encoded data removed]",
      "text/plain": [
       "<Figure size 640x480 with 1 Axes>"
      ]
     },
     "metadata": {},
     "output_type": "display_data"
    }
   ],
   "source": [
    "import matplotlib.pyplot as plt\n",
    "\n",
    "vehicules['catv'].plot(kind='hist', bins=20)\n",
    "plt.xlabel('catv')\n",
    "plt.ylabel('Nombre d\\'accidents')\n",
    "plt.title('Répartition des catégories de véhicules impliquées dans les accidents')\n",
    "plt.show()\n"
   ]
  },
  {
   "cell_type": "code",
   "execution_count": 183,
   "id": "49cdcca5",
   "metadata": {},
   "outputs": [
    {
     "data": {
      "text/plain": [
       "array([ 1,  7, 60, 32, 99, 37, 10,  2, 15, 14,  0, 33, 31, 34, 30, 50,  3,\n",
       "       39, 36, 13, 80, 43, 38, 20, 40, 17, 35, 21, 16, 41, -1, 42],\n",
       "      dtype=int64)"
      ]
     },
     "execution_count": 183,
     "metadata": {},
     "output_type": "execute_result"
    }
   ],
   "source": [
    "vehicules['catv'].unique()"
   ]
  },
  {
   "cell_type": "code",
   "execution_count": 184,
   "id": "46411112",
   "metadata": {},
   "outputs": [
    {
     "data": {
      "image/png": "[encoded data removed]",
      "text/plain": [
       "<Figure size 640x480 with 1 Axes>"
      ]
     },
     "metadata": {},
     "output_type": "display_data"
    }
   ],
   "source": [
    "# Sélection des catégories de véhicules à visualiser\n",
    "selected_catv = [4, 3, 7, 10, 30, 2]\n",
    "\n",
    "# Filtrage des lignes pour ne garder que les catégories sélectionnées\n",
    "filtered_vehicules = vehicules[vehicules['catv'].isin(selected_catv)]\n",
    "\n",
    "# Calcul de la somme des catégories sélectionnées\n",
    "sum_catv = filtered_vehicules.groupby('catv').size().reset_index(name='sum')\n",
    "\n",
    "# Affichage du graphique\n",
    "plt.bar(sum_catv['catv'], sum_catv['sum'])\n",
    "plt.xlabel('Catégorie de véhicule')\n",
    "plt.ylabel('Nombre d\\'accidents')\n",
    "plt.title('Somme des catégories de véhicules sélectionnées')\n",
    "plt.show()\n"
   ]
  },
  {
   "cell_type": "code",
   "execution_count": null,
   "id": "a95aa217",
   "metadata": {},
   "outputs": [],
   "source": []
  },
  {
   "cell_type": "markdown",
   "id": "f9a876e6",
   "metadata": {},
   "source": [
    "# On va va selectionner que certins types des véhicules, les plus utilisé dans la vie par les usagés et voir la quantité des accident "
   ]
  },
  {
   "cell_type": "code",
   "execution_count": 185,
   "id": "122ce3a8",
   "metadata": {},
   "outputs": [
    {
     "data": {
      "text/html": [
       "<div>\n",
       "<style scoped>\n",
       "    .dataframe tbody tr th:only-of-type {\n",
       "        vertical-align: middle;\n",
       "    }\n",
       "\n",
       "    .dataframe tbody tr th {\n",
       "        vertical-align: top;\n",
       "    }\n",
       "\n",
       "    .dataframe thead th {\n",
       "        text-align: right;\n",
       "    }\n",
       "</style>\n",
       "<table border=\"1\" class=\"dataframe\">\n",
       "  <thead>\n",
       "    <tr style=\"text-align: right;\">\n",
       "      <th></th>\n",
       "      <th>Num_Acc</th>\n",
       "      <th>id_vehicule</th>\n",
       "      <th>num_veh</th>\n",
       "      <th>senc</th>\n",
       "      <th>catv</th>\n",
       "      <th>obs</th>\n",
       "      <th>obsm</th>\n",
       "      <th>choc</th>\n",
       "      <th>manv</th>\n",
       "      <th>motor</th>\n",
       "      <th>occutc</th>\n",
       "    </tr>\n",
       "  </thead>\n",
       "  <tbody>\n",
       "    <tr>\n",
       "      <th>0</th>\n",
       "      <td>202100000001</td>\n",
       "      <td>201 764</td>\n",
       "      <td>B01</td>\n",
       "      <td>1</td>\n",
       "      <td>1</td>\n",
       "      <td>0</td>\n",
       "      <td>2</td>\n",
       "      <td>1</td>\n",
       "      <td>1</td>\n",
       "      <td>5</td>\n",
       "      <td>NaN</td>\n",
       "    </tr>\n",
       "    <tr>\n",
       "      <th>1</th>\n",
       "      <td>202100000001</td>\n",
       "      <td>201 765</td>\n",
       "      <td>A01</td>\n",
       "      <td>1</td>\n",
       "      <td>7</td>\n",
       "      <td>0</td>\n",
       "      <td>9</td>\n",
       "      <td>3</td>\n",
       "      <td>17</td>\n",
       "      <td>1</td>\n",
       "      <td>NaN</td>\n",
       "    </tr>\n",
       "    <tr>\n",
       "      <th>2</th>\n",
       "      <td>202100000002</td>\n",
       "      <td>201 762</td>\n",
       "      <td>A01</td>\n",
       "      <td>0</td>\n",
       "      <td>7</td>\n",
       "      <td>2</td>\n",
       "      <td>2</td>\n",
       "      <td>1</td>\n",
       "      <td>1</td>\n",
       "      <td>0</td>\n",
       "      <td>NaN</td>\n",
       "    </tr>\n",
       "    <tr>\n",
       "      <th>3</th>\n",
       "      <td>202100000002</td>\n",
       "      <td>201 763</td>\n",
       "      <td>B01</td>\n",
       "      <td>0</td>\n",
       "      <td>7</td>\n",
       "      <td>0</td>\n",
       "      <td>2</td>\n",
       "      <td>1</td>\n",
       "      <td>9</td>\n",
       "      <td>0</td>\n",
       "      <td>NaN</td>\n",
       "    </tr>\n",
       "    <tr>\n",
       "      <th>4</th>\n",
       "      <td>202100000003</td>\n",
       "      <td>201 761</td>\n",
       "      <td>A01</td>\n",
       "      <td>1</td>\n",
       "      <td>7</td>\n",
       "      <td>0</td>\n",
       "      <td>1</td>\n",
       "      <td>3</td>\n",
       "      <td>1</td>\n",
       "      <td>1</td>\n",
       "      <td>NaN</td>\n",
       "    </tr>\n",
       "  </tbody>\n",
       "</table>\n",
       "</div>"
      ],
      "text/plain": [
       "        Num_Acc id_vehicule num_veh  senc  catv  obs  obsm  choc  manv  motor  \\\n",
       "0  202100000001     201 764     B01     1     1    0     2     1     1      5   \n",
       "1  202100000001     201 765     A01     1     7    0     9     3    17      1   \n",
       "2  202100000002     201 762     A01     0     7    2     2     1     1      0   \n",
       "3  202100000002     201 763     B01     0     7    0     2     1     9      0   \n",
       "4  202100000003     201 761     A01     1     7    0     1     3     1      1   \n",
       "\n",
       "   occutc  \n",
       "0     NaN  \n",
       "1     NaN  \n",
       "2     NaN  \n",
       "3     NaN  \n",
       "4     NaN  "
      ]
     },
     "execution_count": 185,
     "metadata": {},
     "output_type": "execute_result"
    }
   ],
   "source": [
    "vehicules.head(5)"
   ]
  },
  {
   "cell_type": "markdown",
   "id": "157eb7bb",
   "metadata": {},
   "source": [
    "# Pour cela on va proceder à la création de nouvelle  DataFrame vehicules_selected dont contenant les valeurs/types sélectionnées de vehicules"
   ]
  },
  {
   "cell_type": "code",
   "execution_count": 188,
   "id": "a80f19eb",
   "metadata": {},
   "outputs": [
    {
     "data": {
      "image/png": "[encoded data removed]",
      "text/plain": [
       "<Figure size 640x480 with 1 Axes>"
      ]
     },
     "metadata": {},
     "output_type": "display_data"
    }
   ],
   "source": [
    "accidents_par_catv_4.plot(kind='bar')\n",
    "plt.show()"
   ]
  },
  {
   "cell_type": "code",
   "execution_count": 187,
   "id": "b5595281",
   "metadata": {},
   "outputs": [
    {
     "data": {
      "text/plain": [
       "catv\n",
       "-1                                                        4\n",
       "3RM <= 50 cm3                                            11\n",
       "3RM > 125 cm3                                           612\n",
       "3RM > 50 cm3 <= 125 cm3                                   3\n",
       "Autobus                                                 621\n",
       "Autocar                                                 123\n",
       "Autre véhicule                                          438\n",
       "Bicyclette                                             5618\n",
       "Cyclomoteur <50cm3                                     3822\n",
       "EDP sans moteur                                         237\n",
       "EDP à moteur                                           1510\n",
       "Engin spécial                                            95\n",
       "Indéterminable                                          219\n",
       "Motocyclette > 125 cm3                                 7510\n",
       "Motocyclette > 50 cm3 et <= 125 cm3                    1685\n",
       "PL > 3,5T + remorque                                    970\n",
       "PL seul 3,5T <PTCA <= 7,5T                              387\n",
       "PL seul > 7,5T                                          734\n",
       "Quad lourd > 50 cm3                                     179\n",
       "Quad léger <= 50 cm3                                     18\n",
       "Quadricycle à moteur carrossé                           523\n",
       "Scooter < 50 cm3                                       3380\n",
       "Scooter > 125 cm3                                       899\n",
       "Scooter > 50 cm3 et <= 125 cm3                         2221\n",
       "Tracteur agricole                                       265\n",
       "Tracteur routier + semi-remorque                        641\n",
       "Tracteur routier seul                                    36\n",
       "Train                                                    41\n",
       "Tramway                                                 133\n",
       "VAE                                                     534\n",
       "VL seul                                               57101\n",
       "VU seul 1,5T <= PTAC <= 3,5T avec ou sans remorque     6745\n",
       "Name: Num_Acc, dtype: int64"
      ]
     },
     "execution_count": 187,
     "metadata": {},
     "output_type": "execute_result"
    }
   ],
   "source": [
    "accidents_par_catv_4"
   ]
  },
  {
   "cell_type": "code",
   "execution_count": 196,
   "id": "9411ffee",
   "metadata": {},
   "outputs": [
    {
     "data": {
      "image/png": "[encoded data removed]",
      "text/plain": [
       "<Figure size 640x480 with 1 Axes>"
      ]
     },
     "metadata": {},
     "output_type": "display_data"
    }
   ],
   "source": [
    "# création du DataFrame vehicules_selected contenant les valeurs sélectionnées de vehicules\n",
    "#vehicules4 = vehicules2.query('catv in [\"Bicyclette\", \"VL seul\", \"Scooter > 50 cm3 et <= 125 cm3\", \"Motocyclette > 125 cm3\", \"Scooter > 125 cm3\", \"Autobus\", \"Train\"]')\n",
    "accidents_par_catv_4 = vehicules2.groupby('catv')['Num_Acc'].count()\n",
    "accidents_par_catv_4.plot(kind='bar')\n",
    "plt.show()"
   ]
  },
  {
   "cell_type": "markdown",
   "id": "4a4ca415",
   "metadata": {},
   "source": [
    "# Affichons la DataFrame \"vehicules_selected\""
   ]
  },
  {
   "cell_type": "code",
   "execution_count": 82,
   "id": "25806605",
   "metadata": {},
   "outputs": [
    {
     "data": {
      "text/html": [
       "<div>\n",
       "<style scoped>\n",
       "    .dataframe tbody tr th:only-of-type {\n",
       "        vertical-align: middle;\n",
       "    }\n",
       "\n",
       "    .dataframe tbody tr th {\n",
       "        vertical-align: top;\n",
       "    }\n",
       "\n",
       "    .dataframe thead th {\n",
       "        text-align: right;\n",
       "    }\n",
       "</style>\n",
       "<table border=\"1\" class=\"dataframe\">\n",
       "  <thead>\n",
       "    <tr style=\"text-align: right;\">\n",
       "      <th></th>\n",
       "      <th>Num_Acc</th>\n",
       "      <th>id_vehicule</th>\n",
       "      <th>num_veh</th>\n",
       "      <th>senc</th>\n",
       "      <th>catv</th>\n",
       "      <th>obs</th>\n",
       "      <th>obsm</th>\n",
       "      <th>choc</th>\n",
       "      <th>manv</th>\n",
       "      <th>motor</th>\n",
       "      <th>occutc</th>\n",
       "    </tr>\n",
       "  </thead>\n",
       "  <tbody>\n",
       "    <tr>\n",
       "      <th>0</th>\n",
       "      <td>202100000001</td>\n",
       "      <td>201 764</td>\n",
       "      <td>B01</td>\n",
       "      <td>1</td>\n",
       "      <td>1</td>\n",
       "      <td>0</td>\n",
       "      <td>2</td>\n",
       "      <td>1</td>\n",
       "      <td>1</td>\n",
       "      <td>5</td>\n",
       "      <td>NaN</td>\n",
       "    </tr>\n",
       "    <tr>\n",
       "      <th>1</th>\n",
       "      <td>202100000001</td>\n",
       "      <td>201 765</td>\n",
       "      <td>A01</td>\n",
       "      <td>1</td>\n",
       "      <td>7</td>\n",
       "      <td>0</td>\n",
       "      <td>9</td>\n",
       "      <td>3</td>\n",
       "      <td>17</td>\n",
       "      <td>1</td>\n",
       "      <td>NaN</td>\n",
       "    </tr>\n",
       "    <tr>\n",
       "      <th>2</th>\n",
       "      <td>202100000002</td>\n",
       "      <td>201 762</td>\n",
       "      <td>A01</td>\n",
       "      <td>0</td>\n",
       "      <td>7</td>\n",
       "      <td>2</td>\n",
       "      <td>2</td>\n",
       "      <td>1</td>\n",
       "      <td>1</td>\n",
       "      <td>0</td>\n",
       "      <td>NaN</td>\n",
       "    </tr>\n",
       "    <tr>\n",
       "      <th>3</th>\n",
       "      <td>202100000002</td>\n",
       "      <td>201 763</td>\n",
       "      <td>B01</td>\n",
       "      <td>0</td>\n",
       "      <td>7</td>\n",
       "      <td>0</td>\n",
       "      <td>2</td>\n",
       "      <td>1</td>\n",
       "      <td>9</td>\n",
       "      <td>0</td>\n",
       "      <td>NaN</td>\n",
       "    </tr>\n",
       "    <tr>\n",
       "      <th>4</th>\n",
       "      <td>202100000003</td>\n",
       "      <td>201 761</td>\n",
       "      <td>A01</td>\n",
       "      <td>1</td>\n",
       "      <td>7</td>\n",
       "      <td>0</td>\n",
       "      <td>1</td>\n",
       "      <td>3</td>\n",
       "      <td>1</td>\n",
       "      <td>1</td>\n",
       "      <td>NaN</td>\n",
       "    </tr>\n",
       "    <tr>\n",
       "      <th>...</th>\n",
       "      <td>...</td>\n",
       "      <td>...</td>\n",
       "      <td>...</td>\n",
       "      <td>...</td>\n",
       "      <td>...</td>\n",
       "      <td>...</td>\n",
       "      <td>...</td>\n",
       "      <td>...</td>\n",
       "      <td>...</td>\n",
       "      <td>...</td>\n",
       "      <td>...</td>\n",
       "    </tr>\n",
       "    <tr>\n",
       "      <th>97310</th>\n",
       "      <td>202100056516</td>\n",
       "      <td>100 885</td>\n",
       "      <td>A01</td>\n",
       "      <td>1</td>\n",
       "      <td>7</td>\n",
       "      <td>0</td>\n",
       "      <td>2</td>\n",
       "      <td>1</td>\n",
       "      <td>5</td>\n",
       "      <td>1</td>\n",
       "      <td>NaN</td>\n",
       "    </tr>\n",
       "    <tr>\n",
       "      <th>97311</th>\n",
       "      <td>202100056516</td>\n",
       "      <td>100 886</td>\n",
       "      <td>B01</td>\n",
       "      <td>2</td>\n",
       "      <td>7</td>\n",
       "      <td>0</td>\n",
       "      <td>2</td>\n",
       "      <td>3</td>\n",
       "      <td>1</td>\n",
       "      <td>1</td>\n",
       "      <td>NaN</td>\n",
       "    </tr>\n",
       "    <tr>\n",
       "      <th>97312</th>\n",
       "      <td>202100056517</td>\n",
       "      <td>100 884</td>\n",
       "      <td>A01</td>\n",
       "      <td>2</td>\n",
       "      <td>7</td>\n",
       "      <td>6</td>\n",
       "      <td>0</td>\n",
       "      <td>5</td>\n",
       "      <td>6</td>\n",
       "      <td>1</td>\n",
       "      <td>NaN</td>\n",
       "    </tr>\n",
       "    <tr>\n",
       "      <th>97313</th>\n",
       "      <td>202100056518</td>\n",
       "      <td>100 882</td>\n",
       "      <td>A01</td>\n",
       "      <td>2</td>\n",
       "      <td>7</td>\n",
       "      <td>0</td>\n",
       "      <td>2</td>\n",
       "      <td>1</td>\n",
       "      <td>6</td>\n",
       "      <td>1</td>\n",
       "      <td>NaN</td>\n",
       "    </tr>\n",
       "    <tr>\n",
       "      <th>97314</th>\n",
       "      <td>202100056518</td>\n",
       "      <td>100 883</td>\n",
       "      <td>B01</td>\n",
       "      <td>1</td>\n",
       "      <td>7</td>\n",
       "      <td>0</td>\n",
       "      <td>2</td>\n",
       "      <td>1</td>\n",
       "      <td>1</td>\n",
       "      <td>1</td>\n",
       "      <td>NaN</td>\n",
       "    </tr>\n",
       "  </tbody>\n",
       "</table>\n",
       "<p>77189 rows × 11 columns</p>\n",
       "</div>"
      ],
      "text/plain": [
       "            Num_Acc id_vehicule num_veh  senc  catv  obs  obsm  choc  manv  \\\n",
       "0      202100000001     201 764     B01     1     1    0     2     1     1   \n",
       "1      202100000001     201 765     A01     1     7    0     9     3    17   \n",
       "2      202100000002     201 762     A01     0     7    2     2     1     1   \n",
       "3      202100000002     201 763     B01     0     7    0     2     1     9   \n",
       "4      202100000003     201 761     A01     1     7    0     1     3     1   \n",
       "...             ...         ...     ...   ...   ...  ...   ...   ...   ...   \n",
       "97310  202100056516     100 885     A01     1     7    0     2     1     5   \n",
       "97311  202100056516     100 886     B01     2     7    0     2     3     1   \n",
       "97312  202100056517     100 884     A01     2     7    6     0     5     6   \n",
       "97313  202100056518     100 882     A01     2     7    0     2     1     6   \n",
       "97314  202100056518     100 883     B01     1     7    0     2     1     1   \n",
       "\n",
       "       motor  occutc  \n",
       "0          5     NaN  \n",
       "1          1     NaN  \n",
       "2          0     NaN  \n",
       "3          0     NaN  \n",
       "4          1     NaN  \n",
       "...      ...     ...  \n",
       "97310      1     NaN  \n",
       "97311      1     NaN  \n",
       "97312      1     NaN  \n",
       "97313      1     NaN  \n",
       "97314      1     NaN  \n",
       "\n",
       "[77189 rows x 11 columns]"
      ]
     },
     "execution_count": 82,
     "metadata": {},
     "output_type": "execute_result"
    }
   ],
   "source": [
    "vehicules_selected"
   ]
  },
  {
   "cell_type": "code",
   "execution_count": null,
   "id": "5c19adfd",
   "metadata": {},
   "outputs": [],
   "source": [
    "  "
   ]
  },
  {
   "cell_type": "code",
   "execution_count": 83,
   "id": "42198d65",
   "metadata": {},
   "outputs": [
    {
     "data": {
      "text/plain": [
       "<AxesSubplot:xlabel='catv', ylabel='count'>"
      ]
     },
     "execution_count": 83,
     "metadata": {},
     "output_type": "execute_result"
    },
    {
     "data": {
      "image/png": "[encoded data removed]",
      "text/plain": [
       "<Figure size 640x480 with 1 Axes>"
      ]
     },
     "metadata": {},
     "output_type": "display_data"
    }
   ],
   "source": [
    "sns.countplot(x='catv', data=vehicules_selected)"
   ]
  },
  {
   "cell_type": "markdown",
   "id": "d233f831",
   "metadata": {},
   "source": [
    "# Allons voir le nombre d'accidents pour les catégories de véhicules telles que :01 – Bicyclette; 07 – VL seul; 30 – Scooter < 50 cm3; 33 – Motocyclette > 125 cm3; 32 – Scooter > 50 cm3 et <= 125 cm3; 37 – Autobus; 39 – Train "
   ]
  },
  {
   "cell_type": "code",
   "execution_count": null,
   "id": "0f3e6210",
   "metadata": {},
   "outputs": [],
   "source": [
    "#vehicules_selected_2 = vehicules_selected = vehicules.loc[vehicules['catv'].isin([1, 7, 3, 10, 30, 2])]"
   ]
  },
  {
   "cell_type": "code",
   "execution_count": 86,
   "id": "093b77d0",
   "metadata": {},
   "outputs": [
    {
     "data": {
      "text/html": [
       "<div>\n",
       "<style scoped>\n",
       "    .dataframe tbody tr th:only-of-type {\n",
       "        vertical-align: middle;\n",
       "    }\n",
       "\n",
       "    .dataframe tbody tr th {\n",
       "        vertical-align: top;\n",
       "    }\n",
       "\n",
       "    .dataframe thead th {\n",
       "        text-align: right;\n",
       "    }\n",
       "</style>\n",
       "<table border=\"1\" class=\"dataframe\">\n",
       "  <thead>\n",
       "    <tr style=\"text-align: right;\">\n",
       "      <th></th>\n",
       "      <th>Num_Acc</th>\n",
       "      <th>id_vehicule</th>\n",
       "      <th>num_veh</th>\n",
       "      <th>senc</th>\n",
       "      <th>catv</th>\n",
       "      <th>obs</th>\n",
       "      <th>obsm</th>\n",
       "      <th>choc</th>\n",
       "      <th>manv</th>\n",
       "      <th>motor</th>\n",
       "      <th>occutc</th>\n",
       "    </tr>\n",
       "  </thead>\n",
       "  <tbody>\n",
       "    <tr>\n",
       "      <th>0</th>\n",
       "      <td>202100000001</td>\n",
       "      <td>201 764</td>\n",
       "      <td>B01</td>\n",
       "      <td>1</td>\n",
       "      <td>1</td>\n",
       "      <td>0</td>\n",
       "      <td>2</td>\n",
       "      <td>1</td>\n",
       "      <td>1</td>\n",
       "      <td>5</td>\n",
       "      <td>NaN</td>\n",
       "    </tr>\n",
       "    <tr>\n",
       "      <th>1</th>\n",
       "      <td>202100000001</td>\n",
       "      <td>201 765</td>\n",
       "      <td>A01</td>\n",
       "      <td>1</td>\n",
       "      <td>7</td>\n",
       "      <td>0</td>\n",
       "      <td>9</td>\n",
       "      <td>3</td>\n",
       "      <td>17</td>\n",
       "      <td>1</td>\n",
       "      <td>NaN</td>\n",
       "    </tr>\n",
       "  </tbody>\n",
       "</table>\n",
       "</div>"
      ],
      "text/plain": [
       "        Num_Acc id_vehicule num_veh  senc  catv  obs  obsm  choc  manv  motor  \\\n",
       "0  202100000001     201 764     B01     1     1    0     2     1     1      5   \n",
       "1  202100000001     201 765     A01     1     7    0     9     3    17      1   \n",
       "\n",
       "   occutc  \n",
       "0     NaN  \n",
       "1     NaN  "
      ]
     },
     "execution_count": 86,
     "metadata": {},
     "output_type": "execute_result"
    }
   ],
   "source": [
    "vehicules.head(2)"
   ]
  },
  {
   "cell_type": "code",
   "execution_count": 89,
   "id": "54d343b0",
   "metadata": {},
   "outputs": [
    {
     "name": "stdout",
     "output_type": "stream",
     "text": [
      "Num_Acc          int64\n",
      "id_vehicule     object\n",
      "num_veh         object\n",
      "senc             int64\n",
      "catv             int64\n",
      "obs              int64\n",
      "obsm             int64\n",
      "choc             int64\n",
      "manv             int64\n",
      "motor            int64\n",
      "occutc         float64\n",
      "dtype: object\n"
     ]
    }
   ],
   "source": [
    "print(vehicules.dtypes)"
   ]
  },
  {
   "cell_type": "code",
   "execution_count": 100,
   "id": "c0edc8a7",
   "metadata": {},
   "outputs": [
    {
     "data": {
      "image/png": "[encoded data removed]",
      "text/plain": [
       "<Figure size 640x480 with 1 Axes>"
      ]
     },
     "metadata": {},
     "output_type": "display_data"
    }
   ],
   "source": [
    "import matplotlib.pyplot as plt\n",
    "\n",
    "# Filtrer le DataFrame pour sélectionner les catégories de véhicules souhaitées\n",
    "vehicules_selected_3 = vehicules.query('catv in [1, 30, 7, 33, 32, 37, 39]')\n",
    "\n",
    "# Calculer la somme des accidents pour chaque catégorie de véhicules\n",
    "accidents_par_catv_3 = vehicules_selected.groupby('catv')['Num_Acc'].count()\n",
    "\n",
    "# Tracer un graphique à barres de la somme des accidents pour chaque catégorie de véhicules\n",
    "accidents_par_catv_3.plot(kind='bar')\n",
    "plt.show()\n"
   ]
  },
  {
   "cell_type": "raw",
   "id": "37a02aec",
   "metadata": {},
   "source": [
    "# vehicules['catv'] = vehicules['catv'].replace({0:'Indéterminable', 1:'Bicyclette', 2:'Cyclomoteur <50cm3', 3:'Voiturette (Quadricycle à moteur carrossé)', 4:'Référence inutilisée depuis 2006 (scooter immatriculé)', 5:'Référence inutilisée depuis 2006 (motocyclette)', 6:'Référence inutilisée depuis 2006 (side-car)', 7:'VL seul'})\n"
   ]
  },
  {
   "cell_type": "code",
   "execution_count": 90,
   "id": "86280313",
   "metadata": {},
   "outputs": [
    {
     "data": {
      "text/html": [
       "<div>\n",
       "<style scoped>\n",
       "    .dataframe tbody tr th:only-of-type {\n",
       "        vertical-align: middle;\n",
       "    }\n",
       "\n",
       "    .dataframe tbody tr th {\n",
       "        vertical-align: top;\n",
       "    }\n",
       "\n",
       "    .dataframe thead th {\n",
       "        text-align: right;\n",
       "    }\n",
       "</style>\n",
       "<table border=\"1\" class=\"dataframe\">\n",
       "  <thead>\n",
       "    <tr style=\"text-align: right;\">\n",
       "      <th></th>\n",
       "      <th>Num_Acc</th>\n",
       "      <th>id_vehicule</th>\n",
       "      <th>num_veh</th>\n",
       "      <th>senc</th>\n",
       "      <th>catv</th>\n",
       "      <th>obs</th>\n",
       "      <th>obsm</th>\n",
       "      <th>choc</th>\n",
       "      <th>manv</th>\n",
       "      <th>motor</th>\n",
       "      <th>occutc</th>\n",
       "    </tr>\n",
       "  </thead>\n",
       "  <tbody>\n",
       "    <tr>\n",
       "      <th>0</th>\n",
       "      <td>202100000001</td>\n",
       "      <td>201 764</td>\n",
       "      <td>B01</td>\n",
       "      <td>1</td>\n",
       "      <td>1</td>\n",
       "      <td>0</td>\n",
       "      <td>2</td>\n",
       "      <td>1</td>\n",
       "      <td>1</td>\n",
       "      <td>5</td>\n",
       "      <td>NaN</td>\n",
       "    </tr>\n",
       "    <tr>\n",
       "      <th>1</th>\n",
       "      <td>202100000001</td>\n",
       "      <td>201 765</td>\n",
       "      <td>A01</td>\n",
       "      <td>1</td>\n",
       "      <td>7</td>\n",
       "      <td>0</td>\n",
       "      <td>9</td>\n",
       "      <td>3</td>\n",
       "      <td>17</td>\n",
       "      <td>1</td>\n",
       "      <td>NaN</td>\n",
       "    </tr>\n",
       "    <tr>\n",
       "      <th>2</th>\n",
       "      <td>202100000002</td>\n",
       "      <td>201 762</td>\n",
       "      <td>A01</td>\n",
       "      <td>0</td>\n",
       "      <td>7</td>\n",
       "      <td>2</td>\n",
       "      <td>2</td>\n",
       "      <td>1</td>\n",
       "      <td>1</td>\n",
       "      <td>0</td>\n",
       "      <td>NaN</td>\n",
       "    </tr>\n",
       "    <tr>\n",
       "      <th>3</th>\n",
       "      <td>202100000002</td>\n",
       "      <td>201 763</td>\n",
       "      <td>B01</td>\n",
       "      <td>0</td>\n",
       "      <td>7</td>\n",
       "      <td>0</td>\n",
       "      <td>2</td>\n",
       "      <td>1</td>\n",
       "      <td>9</td>\n",
       "      <td>0</td>\n",
       "      <td>NaN</td>\n",
       "    </tr>\n",
       "    <tr>\n",
       "      <th>4</th>\n",
       "      <td>202100000003</td>\n",
       "      <td>201 761</td>\n",
       "      <td>A01</td>\n",
       "      <td>1</td>\n",
       "      <td>7</td>\n",
       "      <td>0</td>\n",
       "      <td>1</td>\n",
       "      <td>3</td>\n",
       "      <td>1</td>\n",
       "      <td>1</td>\n",
       "      <td>NaN</td>\n",
       "    </tr>\n",
       "    <tr>\n",
       "      <th>...</th>\n",
       "      <td>...</td>\n",
       "      <td>...</td>\n",
       "      <td>...</td>\n",
       "      <td>...</td>\n",
       "      <td>...</td>\n",
       "      <td>...</td>\n",
       "      <td>...</td>\n",
       "      <td>...</td>\n",
       "      <td>...</td>\n",
       "      <td>...</td>\n",
       "      <td>...</td>\n",
       "    </tr>\n",
       "    <tr>\n",
       "      <th>97310</th>\n",
       "      <td>202100056516</td>\n",
       "      <td>100 885</td>\n",
       "      <td>A01</td>\n",
       "      <td>1</td>\n",
       "      <td>7</td>\n",
       "      <td>0</td>\n",
       "      <td>2</td>\n",
       "      <td>1</td>\n",
       "      <td>5</td>\n",
       "      <td>1</td>\n",
       "      <td>NaN</td>\n",
       "    </tr>\n",
       "    <tr>\n",
       "      <th>97311</th>\n",
       "      <td>202100056516</td>\n",
       "      <td>100 886</td>\n",
       "      <td>B01</td>\n",
       "      <td>2</td>\n",
       "      <td>7</td>\n",
       "      <td>0</td>\n",
       "      <td>2</td>\n",
       "      <td>3</td>\n",
       "      <td>1</td>\n",
       "      <td>1</td>\n",
       "      <td>NaN</td>\n",
       "    </tr>\n",
       "    <tr>\n",
       "      <th>97312</th>\n",
       "      <td>202100056517</td>\n",
       "      <td>100 884</td>\n",
       "      <td>A01</td>\n",
       "      <td>2</td>\n",
       "      <td>7</td>\n",
       "      <td>6</td>\n",
       "      <td>0</td>\n",
       "      <td>5</td>\n",
       "      <td>6</td>\n",
       "      <td>1</td>\n",
       "      <td>NaN</td>\n",
       "    </tr>\n",
       "    <tr>\n",
       "      <th>97313</th>\n",
       "      <td>202100056518</td>\n",
       "      <td>100 882</td>\n",
       "      <td>A01</td>\n",
       "      <td>2</td>\n",
       "      <td>7</td>\n",
       "      <td>0</td>\n",
       "      <td>2</td>\n",
       "      <td>1</td>\n",
       "      <td>6</td>\n",
       "      <td>1</td>\n",
       "      <td>NaN</td>\n",
       "    </tr>\n",
       "    <tr>\n",
       "      <th>97314</th>\n",
       "      <td>202100056518</td>\n",
       "      <td>100 883</td>\n",
       "      <td>B01</td>\n",
       "      <td>1</td>\n",
       "      <td>7</td>\n",
       "      <td>0</td>\n",
       "      <td>2</td>\n",
       "      <td>1</td>\n",
       "      <td>1</td>\n",
       "      <td>1</td>\n",
       "      <td>NaN</td>\n",
       "    </tr>\n",
       "  </tbody>\n",
       "</table>\n",
       "<p>97315 rows × 11 columns</p>\n",
       "</div>"
      ],
      "text/plain": [
       "            Num_Acc id_vehicule num_veh  senc  catv  obs  obsm  choc  manv  \\\n",
       "0      202100000001     201 764     B01     1     1    0     2     1     1   \n",
       "1      202100000001     201 765     A01     1     7    0     9     3    17   \n",
       "2      202100000002     201 762     A01     0     7    2     2     1     1   \n",
       "3      202100000002     201 763     B01     0     7    0     2     1     9   \n",
       "4      202100000003     201 761     A01     1     7    0     1     3     1   \n",
       "...             ...         ...     ...   ...   ...  ...   ...   ...   ...   \n",
       "97310  202100056516     100 885     A01     1     7    0     2     1     5   \n",
       "97311  202100056516     100 886     B01     2     7    0     2     3     1   \n",
       "97312  202100056517     100 884     A01     2     7    6     0     5     6   \n",
       "97313  202100056518     100 882     A01     2     7    0     2     1     6   \n",
       "97314  202100056518     100 883     B01     1     7    0     2     1     1   \n",
       "\n",
       "       motor  occutc  \n",
       "0          5     NaN  \n",
       "1          1     NaN  \n",
       "2          0     NaN  \n",
       "3          0     NaN  \n",
       "4          1     NaN  \n",
       "...      ...     ...  \n",
       "97310      1     NaN  \n",
       "97311      1     NaN  \n",
       "97312      1     NaN  \n",
       "97313      1     NaN  \n",
       "97314      1     NaN  \n",
       "\n",
       "[97315 rows x 11 columns]"
      ]
     },
     "execution_count": 90,
     "metadata": {},
     "output_type": "execute_result"
    }
   ],
   "source": [
    "vehicules2 = pd.read_csv(\"vehicules-2021.csv\",delimiter=\";\")\n",
    "vehicules2"
   ]
  },
  {
   "cell_type": "code",
   "execution_count": 95,
   "id": "89ef2113",
   "metadata": {},
   "outputs": [],
   "source": [
    "vehicules2['catv'] = vehicules2['catv'].replace({0:'Indéterminable', \n",
    "1:'Bicyclette',\n",
    "2:'Cyclomoteur<50cm3',\n",
    "3:'Quadricycle à moteur carrossé', \n",
    "4:'scooter immatriculé',\n",
    "5:'motocyclette', \n",
    "6:'side-car', \n",
    "7:'VL seul', \n",
    "8 :'VL + caravane',\n",
    "9:'VL + remorque',\n",
    "10:'VU seul 1,5T <= PTAC <= 3,5T avec ou sans remorque',\n",
    "11:'VU (10) + caravane',\n",
    "12:'VU (10) + remorque',\n",
    "13:'PL seul 3,5T <PTCA <= 7,5T',\n",
    "14:'PL seul > 7,5T',\n",
    "15:'PL > 3,5T + remorque',\n",
    "16:'Tracteur routier seul',\n",
    "17:'Tracteur routier + semi-remorque',\n",
    "18:'Référence inutilisée depuis 2006 (transport en commun)',\n",
    "19:'Référence inutilisée depuis 2006 (tramway)',\n",
    "20:'Engin spécial',\n",
    "21:'Tracteur agricole',\n",
    "30:'Scooter < 50 cm3',\n",
    "31:'Motocyclette > 50 cm3 et <= 125 cm3',\n",
    "32:'Scooter > 50 cm3 et <= 125 cm3',\n",
    "33:'Motocyclette > 125 cm3',\n",
    "34:'Scooter > 125 cm3',\n",
    "35:'Quad léger <= 50 cm3',\n",
    "36:'Quad lourd > 50 cm3',\n",
    "37:'Autobus',\n",
    "38:'Autocar',\n",
    "39:'Train',\n",
    "40:'Tramway',\n",
    "41:'3RM <= 50 cm3',\n",
    "42:'3RM > 50 cm3 <= 125 cm3',\n",
    "43:'3RM > 125 cm3',\n",
    "50:'EDP à moteur',\n",
    "60:'EDP sans moteur',\n",
    "80:'VAE',\n",
    "99:'Autre véhicule'})\n"
   ]
  },
  {
   "cell_type": "code",
   "execution_count": 204,
   "id": "f785c406",
   "metadata": {},
   "outputs": [],
   "source": [
    "vehicules2['catv'] = vehicules2['catv'].astype(str)"
   ]
  },
  {
   "cell_type": "code",
   "execution_count": 97,
   "id": "f8c71b5c",
   "metadata": {},
   "outputs": [
    {
     "data": {
      "text/plain": [
       "0        Bicyclette\n",
       "1           VL seul\n",
       "2           VL seul\n",
       "3           VL seul\n",
       "4           VL seul\n",
       "            ...    \n",
       "97310       VL seul\n",
       "97311       VL seul\n",
       "97312       VL seul\n",
       "97313       VL seul\n",
       "97314       VL seul\n",
       "Name: catv, Length: 97315, dtype: object"
      ]
     },
     "execution_count": 97,
     "metadata": {},
     "output_type": "execute_result"
    }
   ],
   "source": [
    "vehicules2['catv']"
   ]
  },
  {
   "cell_type": "code",
   "execution_count": 98,
   "id": "7f82fd0c",
   "metadata": {},
   "outputs": [
    {
     "data": {
      "text/plain": [
       "array(['Bicyclette', 'VL seul', 'EDP sans moteur',\n",
       "       'Scooter > 50 cm3 et <= 125 cm3', 'Autre véhicule', 'Autobus',\n",
       "       'VU seul 1,5T <= PTAC <= 3,5T avec ou sans remorque',\n",
       "       'Cyclomoteur <50cm3', 'PL > 3,5T + remorque', 'PL seul > 7,5T',\n",
       "       'Indéterminable', 'Motocyclette > 125 cm3',\n",
       "       'Motocyclette > 50 cm3 et <= 125 cm3', 'Scooter > 125 cm3',\n",
       "       'Scooter < 50 cm3', 'EDP à moteur',\n",
       "       'Quadricycle à moteur carrossé', 'Train', 'Quad lourd > 50 cm3',\n",
       "       'PL seul 3,5T <PTCA <= 7,5T', 'VAE', '3RM > 125 cm3', 'Autocar',\n",
       "       'Engin spécial', 'Tramway', 'Tracteur routier + semi-remorque',\n",
       "       'Quad léger <= 50 cm3', 'Tracteur agricole',\n",
       "       'Tracteur routier seul', '3RM <= 50 cm3', -1,\n",
       "       '3RM > 50 cm3 <= 125 cm3'], dtype=object)"
      ]
     },
     "execution_count": 98,
     "metadata": {},
     "output_type": "execute_result"
    }
   ],
   "source": [
    "vehicules2['catv'].unique()"
   ]
  },
  {
   "cell_type": "code",
   "execution_count": 114,
   "id": "cb1bc06b",
   "metadata": {},
   "outputs": [
    {
     "data": {
      "image/png": "[encoded data removed]",
      "text/plain": [
       "<Figure size 640x480 with 1 Axes>"
      ]
     },
     "metadata": {},
     "output_type": "display_data"
    }
   ],
   "source": [
    "\n",
    "# Sélection des lignes correspondant aux véhicules voulus dans la colonne 'catv'\n",
    "vehicules_sel = vehicules2.loc[vehicules2['catv'].isin(['Bicyclette', 'VL seul', 'Motocyclette > 125 cm3', 'Tracteur agricole'])]\n",
    "\n",
    "# Calcul de la somme des accidents par type de véhicule\n",
    "accidents_par_vehicule = vehicules_sel.groupby('catv')['Num_Acc'].nunique()\n",
    "\n",
    "# Affichage du graphique\n",
    "accidents_par_vehicule.plot(kind='bar', title='Nombre d\\'accidents par type de véhicule')\n",
    "plt.xlabel('Type de véhicule')\n",
    "plt.ylabel('Nombre d\\'accidents')\n",
    "plt.show()\n"
   ]
  },
  {
   "cell_type": "code",
   "execution_count": null,
   "id": "e570c072",
   "metadata": {},
   "outputs": [],
   "source": []
  }
 ],
 "metadata": {
  "kernelspec": {
   "display_name": "Python 3 (ipykernel)",
   "language": "python",
   "name": "python3"
  },
  "language_info": {
   "codemirror_mode": {
    "name": "ipython",
    "version": 3
   },
   "file_extension": ".py",
   "mimetype": "text/x-python",
   "name": "python",
   "nbconvert_exporter": "python",
   "pygments_lexer": "ipython3",
   "version": "3.9.13"
  }
 },
 "nbformat": 4,
 "nbformat_minor": 5
}
